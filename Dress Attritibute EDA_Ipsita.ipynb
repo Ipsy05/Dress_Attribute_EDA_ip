{
 "cells": [
  {
   "cell_type": "markdown",
   "metadata": {},
   "source": [
    "## Dress Attritibute EDA\n",
    "\n",
    "### Problem Statement:\n",
    "\n",
    "As an analyst working for an e-commerce company, our task is to analyze two datasets containing details of women's apparel sold over the past year.\n",
    "\n",
    "**Attribute Dataset**: This dataset includes various features of women's apparel, such as dress ID, style, price, rating, size, season, neckline, sleeve length, material, fabric type, decoration, pattern type, and recommendation.\n",
    "\n",
    "**Dress Sales Dataset**: This dataset records the number of sales for each dress ID on specific dates.\n",
    "\n",
    "The objective of this project is to perform Exploratory Data Analysis (EDA) on these datasets to derive valuable insights. Subsequently, we will answer graded questions based on our EDA analysis.\n",
    "\n",
    "### Dataset Overview:\n",
    "\n",
    "- **Attribute Dataset Features**:\n",
    "  - Dress_ID\n",
    "  - Style\n",
    "  - Price\n",
    "  - Rating\n",
    "  - Size\n",
    "  - Season\n",
    "  - Neckline\n",
    "  - SleeveLength\n",
    "  - Material\n",
    "  - FabricType\n",
    "  - Decoration\n",
    "  - PatternType\n",
    "  - Recommendation (Target Variable)\n",
    "\n",
    "- **Dress Sales Dataset Features**:\n",
    "  - Dates (Columns)\n",
    "  - Sales Count (Values)\n",
    "\n",
    "### Tasks:\n",
    "1. Perform EDA on the Attribute Dataset and Dress Sales Dataset.\n",
    "2. Draw insights from the analysis.\n",
    "3. Answer graded questions based on the EDA findings.\n",
    "\n",
    "Let's proceed with the analysis to uncover valuable insights about women's apparel sales.\n"
   ]
  },
  {
   "cell_type": "code",
   "execution_count": 198,
   "metadata": {},
   "outputs": [],
   "source": [
    "# Import the required libraries\n",
    "import numpy as np  # Library for numerical operations\n",
    "import pandas as pd  # Library for data manipulation and analysis\n",
    "import matplotlib.pyplot as plt  # Library for creating plots\n",
    "import seaborn as sns  # Library for statistical data visualization\n"
   ]
  },
  {
   "cell_type": "markdown",
   "metadata": {},
   "source": [
    "## Data Cleaning "
   ]
  },
  {
   "cell_type": "markdown",
   "metadata": {},
   "source": [
    "### Data Reading & Data Types "
   ]
  },
  {
   "cell_type": "code",
   "execution_count": 199,
   "metadata": {},
   "outputs": [],
   "source": [
    "# Read the Attribute Dataset and Dress Sales Dataset using Pandas\n",
    "inp0 = pd.read_csv(\"Attribute+DataSet.csv\")  # Reading the Attribute Dataset\n",
    "inp1 = pd.read_csv(\"Dress+Sales.csv\")  # Reading the Dress Sales Dataset"
   ]
  },
  {
   "cell_type": "code",
   "execution_count": 200,
   "metadata": {},
   "outputs": [
    {
     "data": {
      "text/html": [
       "<div>\n",
       "<style scoped>\n",
       "    .dataframe tbody tr th:only-of-type {\n",
       "        vertical-align: middle;\n",
       "    }\n",
       "\n",
       "    .dataframe tbody tr th {\n",
       "        vertical-align: top;\n",
       "    }\n",
       "\n",
       "    .dataframe thead th {\n",
       "        text-align: right;\n",
       "    }\n",
       "</style>\n",
       "<table border=\"1\" class=\"dataframe\">\n",
       "  <thead>\n",
       "    <tr style=\"text-align: right;\">\n",
       "      <th></th>\n",
       "      <th>Dress_ID</th>\n",
       "      <th>Style</th>\n",
       "      <th>Price</th>\n",
       "      <th>Rating</th>\n",
       "      <th>Size</th>\n",
       "      <th>Season</th>\n",
       "      <th>NeckLine</th>\n",
       "      <th>SleeveLength</th>\n",
       "      <th>Material</th>\n",
       "      <th>FabricType</th>\n",
       "      <th>Decoration</th>\n",
       "      <th>Pattern Type</th>\n",
       "      <th>Recommendation</th>\n",
       "    </tr>\n",
       "  </thead>\n",
       "  <tbody>\n",
       "    <tr>\n",
       "      <th>0</th>\n",
       "      <td>1006032852</td>\n",
       "      <td>Sexy</td>\n",
       "      <td>Low</td>\n",
       "      <td>4.6</td>\n",
       "      <td>M</td>\n",
       "      <td>Summer</td>\n",
       "      <td>o-neck</td>\n",
       "      <td>sleevless</td>\n",
       "      <td>NaN</td>\n",
       "      <td>chiffon</td>\n",
       "      <td>ruffles</td>\n",
       "      <td>animal</td>\n",
       "      <td>1</td>\n",
       "    </tr>\n",
       "    <tr>\n",
       "      <th>1</th>\n",
       "      <td>1212192089</td>\n",
       "      <td>Casual</td>\n",
       "      <td>Low</td>\n",
       "      <td>0.0</td>\n",
       "      <td>L</td>\n",
       "      <td>Summer</td>\n",
       "      <td>o-neck</td>\n",
       "      <td>Petal</td>\n",
       "      <td>microfiber</td>\n",
       "      <td>NaN</td>\n",
       "      <td>ruffles</td>\n",
       "      <td>animal</td>\n",
       "      <td>0</td>\n",
       "    </tr>\n",
       "    <tr>\n",
       "      <th>2</th>\n",
       "      <td>1190380701</td>\n",
       "      <td>vintage</td>\n",
       "      <td>High</td>\n",
       "      <td>0.0</td>\n",
       "      <td>L</td>\n",
       "      <td>Automn</td>\n",
       "      <td>o-neck</td>\n",
       "      <td>full</td>\n",
       "      <td>polyster</td>\n",
       "      <td>NaN</td>\n",
       "      <td>NaN</td>\n",
       "      <td>print</td>\n",
       "      <td>0</td>\n",
       "    </tr>\n",
       "    <tr>\n",
       "      <th>3</th>\n",
       "      <td>966005983</td>\n",
       "      <td>Brief</td>\n",
       "      <td>Average</td>\n",
       "      <td>4.6</td>\n",
       "      <td>L</td>\n",
       "      <td>Spring</td>\n",
       "      <td>o-neck</td>\n",
       "      <td>full</td>\n",
       "      <td>silk</td>\n",
       "      <td>chiffon</td>\n",
       "      <td>embroidary</td>\n",
       "      <td>print</td>\n",
       "      <td>1</td>\n",
       "    </tr>\n",
       "    <tr>\n",
       "      <th>4</th>\n",
       "      <td>876339541</td>\n",
       "      <td>cute</td>\n",
       "      <td>Low</td>\n",
       "      <td>4.5</td>\n",
       "      <td>M</td>\n",
       "      <td>Summer</td>\n",
       "      <td>o-neck</td>\n",
       "      <td>butterfly</td>\n",
       "      <td>chiffonfabric</td>\n",
       "      <td>chiffon</td>\n",
       "      <td>bow</td>\n",
       "      <td>dot</td>\n",
       "      <td>0</td>\n",
       "    </tr>\n",
       "  </tbody>\n",
       "</table>\n",
       "</div>"
      ],
      "text/plain": [
       "     Dress_ID    Style    Price  Rating Size  Season NeckLine SleeveLength  \\\n",
       "0  1006032852     Sexy      Low     4.6    M  Summer   o-neck    sleevless   \n",
       "1  1212192089   Casual      Low     0.0    L  Summer   o-neck        Petal   \n",
       "2  1190380701  vintage     High     0.0    L  Automn   o-neck         full   \n",
       "3   966005983    Brief  Average     4.6    L  Spring   o-neck         full   \n",
       "4   876339541     cute      Low     4.5    M  Summer   o-neck    butterfly   \n",
       "\n",
       "        Material FabricType  Decoration Pattern Type  Recommendation  \n",
       "0            NaN    chiffon     ruffles       animal               1  \n",
       "1     microfiber        NaN     ruffles       animal               0  \n",
       "2       polyster        NaN         NaN        print               0  \n",
       "3           silk    chiffon  embroidary        print               1  \n",
       "4  chiffonfabric    chiffon         bow          dot               0  "
      ]
     },
     "execution_count": 200,
     "metadata": {},
     "output_type": "execute_result"
    }
   ],
   "source": [
    "# Display the first few rows of the \"inp0\" DataFrame to get a glimpse of the data\n",
    "inp0.head()"
   ]
  },
  {
   "cell_type": "code",
   "execution_count": 201,
   "metadata": {},
   "outputs": [
    {
     "data": {
      "text/html": [
       "<div>\n",
       "<style scoped>\n",
       "    .dataframe tbody tr th:only-of-type {\n",
       "        vertical-align: middle;\n",
       "    }\n",
       "\n",
       "    .dataframe tbody tr th {\n",
       "        vertical-align: top;\n",
       "    }\n",
       "\n",
       "    .dataframe thead th {\n",
       "        text-align: right;\n",
       "    }\n",
       "</style>\n",
       "<table border=\"1\" class=\"dataframe\">\n",
       "  <thead>\n",
       "    <tr style=\"text-align: right;\">\n",
       "      <th></th>\n",
       "      <th>Dress_ID</th>\n",
       "      <th>29-08-2013</th>\n",
       "      <th>31-08-2013</th>\n",
       "      <th>09-02-2013</th>\n",
       "      <th>09-04-2013</th>\n",
       "      <th>09-06-2013</th>\n",
       "      <th>09-08-2013</th>\n",
       "      <th>09-10-2013</th>\n",
       "      <th>09-12-2013</th>\n",
       "      <th>14-09-2013</th>\n",
       "      <th>...</th>\n",
       "      <th>24-09-2013</th>\n",
       "      <th>26-09-2013</th>\n",
       "      <th>28-09-2013</th>\n",
       "      <th>30-09-2013</th>\n",
       "      <th>10-02-2013</th>\n",
       "      <th>10-04-2013</th>\n",
       "      <th>10-06-2013</th>\n",
       "      <th>10-08-2013</th>\n",
       "      <th>10-10-2013</th>\n",
       "      <th>10-12-2013</th>\n",
       "    </tr>\n",
       "  </thead>\n",
       "  <tbody>\n",
       "    <tr>\n",
       "      <th>0</th>\n",
       "      <td>1.006033e+09</td>\n",
       "      <td>2114</td>\n",
       "      <td>2274</td>\n",
       "      <td>2491</td>\n",
       "      <td>2660</td>\n",
       "      <td>2727</td>\n",
       "      <td>2887</td>\n",
       "      <td>2930</td>\n",
       "      <td>3119</td>\n",
       "      <td>3204</td>\n",
       "      <td>...</td>\n",
       "      <td>3554</td>\n",
       "      <td>3624.0</td>\n",
       "      <td>3706</td>\n",
       "      <td>3746.0</td>\n",
       "      <td>3795.0</td>\n",
       "      <td>3832.0</td>\n",
       "      <td>3897</td>\n",
       "      <td>3923.0</td>\n",
       "      <td>3985.0</td>\n",
       "      <td>4048</td>\n",
       "    </tr>\n",
       "    <tr>\n",
       "      <th>1</th>\n",
       "      <td>1.212192e+09</td>\n",
       "      <td>151</td>\n",
       "      <td>275</td>\n",
       "      <td>570</td>\n",
       "      <td>750</td>\n",
       "      <td>813</td>\n",
       "      <td>1066</td>\n",
       "      <td>1164</td>\n",
       "      <td>1558</td>\n",
       "      <td>1756</td>\n",
       "      <td>...</td>\n",
       "      <td>2710</td>\n",
       "      <td>2942.0</td>\n",
       "      <td>3258</td>\n",
       "      <td>3354.0</td>\n",
       "      <td>3475.0</td>\n",
       "      <td>3654.0</td>\n",
       "      <td>3911</td>\n",
       "      <td>4024.0</td>\n",
       "      <td>4125.0</td>\n",
       "      <td>4277</td>\n",
       "    </tr>\n",
       "    <tr>\n",
       "      <th>2</th>\n",
       "      <td>1.190381e+09</td>\n",
       "      <td>6</td>\n",
       "      <td>7</td>\n",
       "      <td>7</td>\n",
       "      <td>7</td>\n",
       "      <td>8</td>\n",
       "      <td>8</td>\n",
       "      <td>9</td>\n",
       "      <td>10</td>\n",
       "      <td>10</td>\n",
       "      <td>...</td>\n",
       "      <td>11</td>\n",
       "      <td>11.0</td>\n",
       "      <td>11</td>\n",
       "      <td>11.0</td>\n",
       "      <td>11.0</td>\n",
       "      <td>11.0</td>\n",
       "      <td>11</td>\n",
       "      <td>11.0</td>\n",
       "      <td>11.0</td>\n",
       "      <td>11</td>\n",
       "    </tr>\n",
       "    <tr>\n",
       "      <th>3</th>\n",
       "      <td>9.660060e+08</td>\n",
       "      <td>1005</td>\n",
       "      <td>1128</td>\n",
       "      <td>1326</td>\n",
       "      <td>1455</td>\n",
       "      <td>1507</td>\n",
       "      <td>1621</td>\n",
       "      <td>1637</td>\n",
       "      <td>1723</td>\n",
       "      <td>1746</td>\n",
       "      <td>...</td>\n",
       "      <td>1878</td>\n",
       "      <td>1892.0</td>\n",
       "      <td>1914</td>\n",
       "      <td>1924.0</td>\n",
       "      <td>1929.0</td>\n",
       "      <td>1941.0</td>\n",
       "      <td>1952</td>\n",
       "      <td>1955.0</td>\n",
       "      <td>1959.0</td>\n",
       "      <td>1963</td>\n",
       "    </tr>\n",
       "    <tr>\n",
       "      <th>4</th>\n",
       "      <td>8.763395e+08</td>\n",
       "      <td>996</td>\n",
       "      <td>1175</td>\n",
       "      <td>1304</td>\n",
       "      <td>1396</td>\n",
       "      <td>1432</td>\n",
       "      <td>1559</td>\n",
       "      <td>1570</td>\n",
       "      <td>1638</td>\n",
       "      <td>1655</td>\n",
       "      <td>...</td>\n",
       "      <td>2032</td>\n",
       "      <td>2156.0</td>\n",
       "      <td>2252</td>\n",
       "      <td>2312.0</td>\n",
       "      <td>2387.0</td>\n",
       "      <td>2459.0</td>\n",
       "      <td>2544</td>\n",
       "      <td>2614.0</td>\n",
       "      <td>2693.0</td>\n",
       "      <td>2736</td>\n",
       "    </tr>\n",
       "  </tbody>\n",
       "</table>\n",
       "<p>5 rows × 24 columns</p>\n",
       "</div>"
      ],
      "text/plain": [
       "       Dress_ID  29-08-2013  31-08-2013  09-02-2013  09-04-2013  09-06-2013  \\\n",
       "0  1.006033e+09        2114        2274        2491        2660        2727   \n",
       "1  1.212192e+09         151         275         570         750         813   \n",
       "2  1.190381e+09           6           7           7           7           8   \n",
       "3  9.660060e+08        1005        1128        1326        1455        1507   \n",
       "4  8.763395e+08         996        1175        1304        1396        1432   \n",
       "\n",
       "   09-08-2013  09-10-2013 09-12-2013 14-09-2013  ... 24-09-2013 26-09-2013  \\\n",
       "0        2887        2930       3119       3204  ...       3554     3624.0   \n",
       "1        1066        1164       1558       1756  ...       2710     2942.0   \n",
       "2           8           9         10         10  ...         11       11.0   \n",
       "3        1621        1637       1723       1746  ...       1878     1892.0   \n",
       "4        1559        1570       1638       1655  ...       2032     2156.0   \n",
       "\n",
       "  28-09-2013 30-09-2013  10-02-2013  10-04-2013  10-06-2013  10-08-2013  \\\n",
       "0       3706     3746.0      3795.0      3832.0        3897      3923.0   \n",
       "1       3258     3354.0      3475.0      3654.0        3911      4024.0   \n",
       "2         11       11.0        11.0        11.0          11        11.0   \n",
       "3       1914     1924.0      1929.0      1941.0        1952      1955.0   \n",
       "4       2252     2312.0      2387.0      2459.0        2544      2614.0   \n",
       "\n",
       "   10-10-2013  10-12-2013  \n",
       "0      3985.0        4048  \n",
       "1      4125.0        4277  \n",
       "2        11.0          11  \n",
       "3      1959.0        1963  \n",
       "4      2693.0        2736  \n",
       "\n",
       "[5 rows x 24 columns]"
      ]
     },
     "execution_count": 201,
     "metadata": {},
     "output_type": "execute_result"
    }
   ],
   "source": [
    "# Display the first few rows of the \"inp1\" DataFrame to get a glimpse of the data\n",
    "inp1.head()"
   ]
  },
  {
   "cell_type": "code",
   "execution_count": 202,
   "metadata": {},
   "outputs": [
    {
     "data": {
      "text/plain": [
       "Dress_ID            int64\n",
       "Style              object\n",
       "Price              object\n",
       "Rating            float64\n",
       "Size               object\n",
       "Season             object\n",
       "NeckLine           object\n",
       "SleeveLength       object\n",
       "Material           object\n",
       "FabricType         object\n",
       "Decoration         object\n",
       "Pattern Type       object\n",
       "Recommendation      int64\n",
       "dtype: object"
      ]
     },
     "execution_count": 202,
     "metadata": {},
     "output_type": "execute_result"
    }
   ],
   "source": [
    "# Check the data types of each column in the \"inp0\" DataFrame\n",
    "inp0.dtypes"
   ]
  },
  {
   "cell_type": "code",
   "execution_count": 203,
   "metadata": {},
   "outputs": [
    {
     "name": "stdout",
     "output_type": "stream",
     "text": [
      "<class 'pandas.core.frame.DataFrame'>\n",
      "RangeIndex: 479 entries, 0 to 478\n",
      "Data columns (total 13 columns):\n",
      " #   Column          Non-Null Count  Dtype  \n",
      "---  ------          --------------  -----  \n",
      " 0   Dress_ID        479 non-null    int64  \n",
      " 1   Style           479 non-null    object \n",
      " 2   Price           477 non-null    object \n",
      " 3   Rating          479 non-null    float64\n",
      " 4   Size            479 non-null    object \n",
      " 5   Season          477 non-null    object \n",
      " 6   NeckLine        476 non-null    object \n",
      " 7   SleeveLength    477 non-null    object \n",
      " 8   Material        360 non-null    object \n",
      " 9   FabricType      223 non-null    object \n",
      " 10  Decoration      255 non-null    object \n",
      " 11  Pattern Type    377 non-null    object \n",
      " 12  Recommendation  479 non-null    int64  \n",
      "dtypes: float64(1), int64(2), object(10)\n",
      "memory usage: 48.8+ KB\n"
     ]
    }
   ],
   "source": [
    "# Display information about the attributes (columns) of the inp0 DataFrame\n",
    "inp0.info()"
   ]
  },
  {
   "cell_type": "code",
   "execution_count": 204,
   "metadata": {},
   "outputs": [
    {
     "name": "stdout",
     "output_type": "stream",
     "text": [
      "<class 'pandas.core.frame.DataFrame'>\n",
      "RangeIndex: 479 entries, 0 to 478\n",
      "Data columns (total 24 columns):\n",
      " #   Column      Non-Null Count  Dtype  \n",
      "---  ------      --------------  -----  \n",
      " 0   Dress_ID    479 non-null    float64\n",
      " 1   29-08-2013  479 non-null    int64  \n",
      " 2   31-08-2013  479 non-null    int64  \n",
      " 3   09-02-2013  479 non-null    int64  \n",
      " 4   09-04-2013  479 non-null    int64  \n",
      " 5   09-06-2013  479 non-null    int64  \n",
      " 6   09-08-2013  479 non-null    int64  \n",
      " 7   09-10-2013  479 non-null    int64  \n",
      " 8   09-12-2013  479 non-null    object \n",
      " 9   14-09-2013  479 non-null    object \n",
      " 10  16-09-2013  479 non-null    object \n",
      " 11  18-09-2013  479 non-null    object \n",
      " 12  20-09-2013  479 non-null    object \n",
      " 13  22-09-2013  479 non-null    object \n",
      " 14  24-09-2013  479 non-null    int64  \n",
      " 15  26-09-2013  257 non-null    float64\n",
      " 16  28-09-2013  479 non-null    int64  \n",
      " 17  30-09-2013  222 non-null    float64\n",
      " 18  10-02-2013  220 non-null    float64\n",
      " 19  10-04-2013  221 non-null    float64\n",
      " 20  10-06-2013  479 non-null    int64  \n",
      " 21  10-08-2013  224 non-null    float64\n",
      " 22  10-10-2013  224 non-null    float64\n",
      " 23  10-12-2013  479 non-null    int64  \n",
      "dtypes: float64(7), int64(11), object(6)\n",
      "memory usage: 89.9+ KB\n"
     ]
    }
   ],
   "source": [
    "# Display information about the attributes (columns) of the inp1 DataFrame\n",
    "inp1.info()"
   ]
  },
  {
   "cell_type": "markdown",
   "metadata": {},
   "source": [
    "### Fixing the Rows and Columns "
   ]
  },
  {
   "cell_type": "markdown",
   "metadata": {},
   "source": [
    "As evident from the \"Attribute Dataset,\" there exists a column labeled 'Size', where the values are presented in abbreviation format:\n",
    "\n",
    "- 'M' is represented as \"Medium\"\n",
    "- 'L' is represented as \"Large\"\n",
    "- 'XL' is represented as \"Extra large\"\n",
    "- 'free' is represented as \"Free\"\n",
    "- 'S', 's', and 'small' are represented as \"Small\".\n"
   ]
  },
  {
   "cell_type": "code",
   "execution_count": 205,
   "metadata": {},
   "outputs": [
    {
     "data": {
      "text/plain": [
       "0    M\n",
       "1    L\n",
       "2    L\n",
       "3    L\n",
       "4    M\n",
       "Name: Size, dtype: object"
      ]
     },
     "execution_count": 205,
     "metadata": {},
     "output_type": "execute_result"
    }
   ],
   "source": [
    "# Display the first few rows of the \"Size\" column in the inp0 DataFrame\n",
    "inp0.Size.head()\n"
   ]
  },
  {
   "cell_type": "code",
   "execution_count": 206,
   "metadata": {},
   "outputs": [
    {
     "data": {
      "text/plain": [
       "Size\n",
       "M        171\n",
       "free     165\n",
       "L         93\n",
       "S         34\n",
       "XL        14\n",
       "small      1\n",
       "s          1\n",
       "Name: count, dtype: int64"
      ]
     },
     "execution_count": 206,
     "metadata": {},
     "output_type": "execute_result"
    }
   ],
   "source": [
    "# Count the occurrences of each size category in the \"Size\" column of the inp0 DataFrame\n",
    "inp0.Size.value_counts()\n"
   ]
  },
  {
   "cell_type": "code",
   "execution_count": 207,
   "metadata": {},
   "outputs": [
    {
     "data": {
      "text/plain": [
       "Size\n",
       "Medium         171\n",
       "Free           165\n",
       "Large           93\n",
       "Small           36\n",
       "Extra large     14\n",
       "Name: count, dtype: int64"
      ]
     },
     "execution_count": 207,
     "metadata": {},
     "output_type": "execute_result"
    }
   ],
   "source": [
    "# Replace size abbreviations with their corresponding full names in the \"Size\" column of the inp0 DataFrame\n",
    "inp0.Size = inp0.Size.replace(['M'], 'Medium')\n",
    "inp0.Size = inp0.Size.replace(['L'], 'Large')\n",
    "inp0.Size = inp0.Size.replace(['XL'], 'Extra large')\n",
    "inp0.Size = inp0.Size.replace(['free'], 'Free')\n",
    "inp0.Size = inp0.Size.replace(['s', 'S', 'small'], 'Small')\n",
    "\n",
    "# Count the occurrences of each size category in the \"Size\" column of the inp0 DataFrame after fixing abbreviations\n",
    "inp0.Size.value_counts()\n"
   ]
  },
  {
   "cell_type": "code",
   "execution_count": 208,
   "metadata": {},
   "outputs": [
    {
     "data": {
      "text/plain": [
       "Size\n",
       "Medium         35.699374\n",
       "Free           34.446764\n",
       "Large          19.415449\n",
       "Small           7.515658\n",
       "Extra large     2.922756\n",
       "Name: proportion, dtype: float64"
      ]
     },
     "execution_count": 208,
     "metadata": {},
     "output_type": "execute_result"
    }
   ],
   "source": [
    "# Print the percentage of each category in the \"Size\" column of the inp0 DataFrame\n",
    "(inp0.Size.value_counts(normalize=True) * 100)\n"
   ]
  },
  {
   "cell_type": "markdown",
   "metadata": {},
   "source": [
    "### Impute/Remove Missing values"
   ]
  },
  {
   "cell_type": "code",
   "execution_count": 209,
   "metadata": {},
   "outputs": [
    {
     "data": {
      "text/plain": [
       "Dress_ID            0\n",
       "Style               0\n",
       "Price               2\n",
       "Rating              0\n",
       "Size                0\n",
       "Season              2\n",
       "NeckLine            3\n",
       "SleeveLength        2\n",
       "Material          119\n",
       "FabricType        256\n",
       "Decoration        224\n",
       "Pattern Type      102\n",
       "Recommendation      0\n",
       "dtype: int64"
      ]
     },
     "execution_count": 209,
     "metadata": {},
     "output_type": "execute_result"
    }
   ],
   "source": [
    "# Print the count of null values for each variable in the inp0 DataFrame\n",
    "inp0.isnull().sum()\n"
   ]
  },
  {
   "cell_type": "code",
   "execution_count": 210,
   "metadata": {},
   "outputs": [
    {
     "data": {
      "text/plain": [
       "Dress_ID        0\n",
       "29-08-2013      0\n",
       "31-08-2013      0\n",
       "09-02-2013      0\n",
       "09-04-2013      0\n",
       "09-06-2013      0\n",
       "09-08-2013      0\n",
       "09-10-2013      0\n",
       "09-12-2013      0\n",
       "14-09-2013      0\n",
       "16-09-2013      0\n",
       "18-09-2013      0\n",
       "20-09-2013      0\n",
       "22-09-2013      0\n",
       "24-09-2013      0\n",
       "26-09-2013    222\n",
       "28-09-2013      0\n",
       "30-09-2013    257\n",
       "10-02-2013    259\n",
       "10-04-2013    258\n",
       "10-06-2013      0\n",
       "10-08-2013    255\n",
       "10-10-2013    255\n",
       "10-12-2013      0\n",
       "dtype: int64"
      ]
     },
     "execution_count": 210,
     "metadata": {},
     "output_type": "execute_result"
    }
   ],
   "source": [
    "# Print the count of null values for each variable in the inp1 DataFrame\n",
    "inp1.isnull().sum()\n"
   ]
  },
  {
   "cell_type": "code",
   "execution_count": 211,
   "metadata": {},
   "outputs": [
    {
     "data": {
      "text/plain": [
       "(479, 13)"
      ]
     },
     "execution_count": 211,
     "metadata": {},
     "output_type": "execute_result"
    }
   ],
   "source": [
    "# Check the shape of the inp0 DataFrame (number of rows and columns)\n",
    "inp0.shape\n"
   ]
  },
  {
   "cell_type": "code",
   "execution_count": 212,
   "metadata": {},
   "outputs": [
    {
     "data": {
      "text/plain": [
       "(479, 24)"
      ]
     },
     "execution_count": 212,
     "metadata": {},
     "output_type": "execute_result"
    }
   ],
   "source": [
    "# Check the shape of the inp1 DataFrame (number of rows and columns)\n",
    "\n",
    "inp1.shape"
   ]
  },
  {
   "cell_type": "markdown",
   "metadata": {},
   "source": [
    "#### Correcting Data Type Error\n",
    "\n",
    "In the dataset \"Dress Sales,\" certain columns appear to be incorrectly labeled as object data type even though they predominantly contain numeric data. Attempting to convert these columns to numeric (float) may result in an error.\n",
    "\n",
    "To resolve this issue, appropriate measures need to be taken to convert the object data type columns containing numeric data into numeric data type (float) successfully.\n"
   ]
  },
  {
   "cell_type": "code",
   "execution_count": 213,
   "metadata": {},
   "outputs": [
    {
     "name": "stdout",
     "output_type": "stream",
     "text": [
      "<class 'pandas.core.frame.DataFrame'>\n",
      "RangeIndex: 479 entries, 0 to 478\n",
      "Data columns (total 24 columns):\n",
      " #   Column      Non-Null Count  Dtype  \n",
      "---  ------      --------------  -----  \n",
      " 0   Dress_ID    479 non-null    float64\n",
      " 1   29-08-2013  479 non-null    int64  \n",
      " 2   31-08-2013  479 non-null    int64  \n",
      " 3   09-02-2013  479 non-null    int64  \n",
      " 4   09-04-2013  479 non-null    int64  \n",
      " 5   09-06-2013  479 non-null    int64  \n",
      " 6   09-08-2013  479 non-null    int64  \n",
      " 7   09-10-2013  479 non-null    int64  \n",
      " 8   09-12-2013  479 non-null    object \n",
      " 9   14-09-2013  479 non-null    object \n",
      " 10  16-09-2013  479 non-null    object \n",
      " 11  18-09-2013  479 non-null    object \n",
      " 12  20-09-2013  479 non-null    object \n",
      " 13  22-09-2013  479 non-null    object \n",
      " 14  24-09-2013  479 non-null    int64  \n",
      " 15  26-09-2013  257 non-null    float64\n",
      " 16  28-09-2013  479 non-null    int64  \n",
      " 17  30-09-2013  222 non-null    float64\n",
      " 18  10-02-2013  220 non-null    float64\n",
      " 19  10-04-2013  221 non-null    float64\n",
      " 20  10-06-2013  479 non-null    int64  \n",
      " 21  10-08-2013  224 non-null    float64\n",
      " 22  10-10-2013  224 non-null    float64\n",
      " 23  10-12-2013  479 non-null    int64  \n",
      "dtypes: float64(7), int64(11), object(6)\n",
      "memory usage: 89.9+ KB\n"
     ]
    }
   ],
   "source": [
    "# Print information about the data types of columns in the inp1 DataFrame (Dress Sales data)\n",
    "inp1.info()\n"
   ]
  },
  {
   "cell_type": "code",
   "execution_count": 214,
   "metadata": {},
   "outputs": [],
   "source": [
    "# Attempt to convert object type data to float type in the inp1 DataFrame\n",
    "# An error message may occur when trying to convert a specific column ('09-12-2013')\n",
    "# inp1['09-12-2013'] = pd.to_numeric(inp1['09-12-2013'])\n"
   ]
  },
  {
   "cell_type": "code",
   "execution_count": 215,
   "metadata": {},
   "outputs": [
    {
     "data": {
      "text/plain": [
       "array(['3119', '1558', '10', '1723', '1638', '18', '251', '117', '17',\n",
       "       '13', '65', '90', '1906', '2934', '49', '45', '1898', '12', '381',\n",
       "       '227', '1248', '233', '1671', '5', '22', '1762', '105', '497',\n",
       "       '7156', '1456', '279', '1004', '1244', '2321', '1706', '1744',\n",
       "       '66', '569', '557', '156', '2930', '640', '878', '240', '112',\n",
       "       '5475', '24', '1210', '4', '209', '218', '59', '1474', '921',\n",
       "       '328', '567', '585', '359', '30', '8', '68', '2025', '293', '670',\n",
       "       '375', '25', '415', '83', '369', '40', '826', '2366', '6', '73',\n",
       "       '137', '1412', '393', '382', '14', '232', '401', '325', '308',\n",
       "       '722', '16', '119', '174', '2', '0', '302', '808', '407', '237',\n",
       "       '649', '1311', '348', '1966', '531', '81', '3544', '164', '1335',\n",
       "       '72', '414', '134', '452', '221', '450', '1029', '1235', '7', '91',\n",
       "       '665', '307', '169', '442', '217', '3', '264', '578', '194', '339',\n",
       "       '165', '64', '132', '635', '113', '43', '1271', '460', '451', '41',\n",
       "       '111', '549', '455', '1886', '61', '176', '280', '201', '488',\n",
       "       '226', '472', '42', '386', '365', '664', '576', '356', '957',\n",
       "       '204', '21', '224', '115', '103', '850', '46', '281', '559', '767',\n",
       "       '343', '461', '1842', '202', '122', '350', '742', '114', '140',\n",
       "       '37', '178', '283', '124', '74', '448', '36', '1115', '314', '188',\n",
       "       '259', '144', '171', '449', '168', '377', '334', '500', '758', '1',\n",
       "       '354', '52', '126', '31', '836', '865', '387', '85', '482', '362',\n",
       "       '35', '298', '219', '320', '60', '270', '288', '1472', '118',\n",
       "       '357', '70', '98', '146', '189', '273', 'Removed', '56', '210',\n",
       "       '67', '54', '28', '57', '396', '215', '145', '89', '222', '96',\n",
       "       '26', '87', '100', '129', '69', '101', '82', '29', '160', '62',\n",
       "       '289', '123', '296', '158', '53', '786', '75', '58', '823', '148',\n",
       "       '606', '9', '822', '253', '55', '50', '1111', '269', '562', '583',\n",
       "       '324', '170', '199', '794', '39', '84', '121', '147', '93', '191',\n",
       "       '195', '44', '669', '205', '420', '133', '385', '678', '243', '11',\n",
       "       '97', '384', '213', '155', '15', '234', '27', '33', '131', '361',\n",
       "       '321', '250', '92', '51', '683', '86', '19', '163', '143', '417',\n",
       "       '23', '322', '149', '245', '139', '629', '187', '290', '645',\n",
       "       '473', '239', '525', '694', '268'], dtype=object)"
      ]
     },
     "execution_count": 215,
     "metadata": {},
     "output_type": "execute_result"
    }
   ],
   "source": [
    "# Display unique values in the '09-12-2013' column of the inp1 DataFrame\n",
    "inp1['09-12-2013'].unique()\n"
   ]
  },
  {
   "cell_type": "markdown",
   "metadata": {},
   "source": [
    "#### Explanation: Conversion Error Resolution\n",
    "\n",
    "The presence of a string value within these columns results in conversion errors. Converting a string directly to float type is not possible. However, by replacing the string with a null value, successful conversion to float type becomes achievable.\n"
   ]
  },
  {
   "cell_type": "code",
   "execution_count": 216,
   "metadata": {},
   "outputs": [],
   "source": [
    "# Replace string values with null (NaN) in the \"Dress Sales\" dataset to facilitate conversion\n",
    "inp1.loc[inp1['09-12-2013'] == 'Removed', \"09-12-2013\"] = np.NaN\n",
    "inp1.loc[inp1['14-09-2013'] == 'removed', \"14-09-2013\"] = np.NaN\n",
    "inp1.loc[inp1['16-09-2013'] == 'removed', \"16-09-2013\"] = np.NaN\n",
    "inp1.loc[inp1['18-09-2013'] == 'removed', \"18-09-2013\"] = np.NaN\n",
    "inp1.loc[inp1['20-09-2013'] == 'removed', \"20-09-2013\"] = np.NaN\n",
    "inp1.loc[inp1['22-09-2013'] == 'Orders', \"22-09-2013\"] = np.NaN\n"
   ]
  },
  {
   "cell_type": "code",
   "execution_count": 217,
   "metadata": {},
   "outputs": [],
   "source": [
    "# Convert object type columns to float type in the \"Dress Sales\" dataset\n",
    "inp1['18-09-2013'] = inp1['18-09-2013'].astype(float)\n",
    "inp1['14-09-2013'] = inp1['14-09-2013'].astype(float)\n",
    "inp1['16-09-2013'] = inp1['16-09-2013'].astype(float)\n",
    "inp1['20-09-2013'] = inp1['20-09-2013'].astype(float)\n",
    "inp1['22-09-2013'] = inp1['22-09-2013'].astype(float)\n",
    "inp1['09-12-2013'] = inp1['09-12-2013'].astype(float)\n"
   ]
  },
  {
   "cell_type": "code",
   "execution_count": 218,
   "metadata": {},
   "outputs": [
    {
     "name": "stdout",
     "output_type": "stream",
     "text": [
      "<class 'pandas.core.frame.DataFrame'>\n",
      "RangeIndex: 479 entries, 0 to 478\n",
      "Data columns (total 24 columns):\n",
      " #   Column      Non-Null Count  Dtype  \n",
      "---  ------      --------------  -----  \n",
      " 0   Dress_ID    479 non-null    float64\n",
      " 1   29-08-2013  479 non-null    int64  \n",
      " 2   31-08-2013  479 non-null    int64  \n",
      " 3   09-02-2013  479 non-null    int64  \n",
      " 4   09-04-2013  479 non-null    int64  \n",
      " 5   09-06-2013  479 non-null    int64  \n",
      " 6   09-08-2013  479 non-null    int64  \n",
      " 7   09-10-2013  479 non-null    int64  \n",
      " 8   09-12-2013  478 non-null    float64\n",
      " 9   14-09-2013  478 non-null    float64\n",
      " 10  16-09-2013  478 non-null    float64\n",
      " 11  18-09-2013  478 non-null    float64\n",
      " 12  20-09-2013  478 non-null    float64\n",
      " 13  22-09-2013  478 non-null    float64\n",
      " 14  24-09-2013  479 non-null    int64  \n",
      " 15  26-09-2013  257 non-null    float64\n",
      " 16  28-09-2013  479 non-null    int64  \n",
      " 17  30-09-2013  222 non-null    float64\n",
      " 18  10-02-2013  220 non-null    float64\n",
      " 19  10-04-2013  221 non-null    float64\n",
      " 20  10-06-2013  479 non-null    int64  \n",
      " 21  10-08-2013  224 non-null    float64\n",
      " 22  10-10-2013  224 non-null    float64\n",
      " 23  10-12-2013  479 non-null    int64  \n",
      "dtypes: float64(13), int64(11)\n",
      "memory usage: 89.9 KB\n"
     ]
    }
   ],
   "source": [
    "# Display information about the data types of columns in the inp1 DataFrame (Dress Sales data) AFTER conversion\n",
    "inp1.info()\n"
   ]
  },
  {
   "cell_type": "code",
   "execution_count": 219,
   "metadata": {},
   "outputs": [
    {
     "data": {
      "text/plain": [
       "Dress_ID        0\n",
       "29-08-2013      0\n",
       "31-08-2013      0\n",
       "09-02-2013      0\n",
       "09-04-2013      0\n",
       "09-06-2013      0\n",
       "09-08-2013      0\n",
       "09-10-2013      0\n",
       "09-12-2013      1\n",
       "14-09-2013      1\n",
       "16-09-2013      1\n",
       "18-09-2013      1\n",
       "20-09-2013      1\n",
       "22-09-2013      1\n",
       "24-09-2013      0\n",
       "26-09-2013    222\n",
       "28-09-2013      0\n",
       "30-09-2013    257\n",
       "10-02-2013    259\n",
       "10-04-2013    258\n",
       "10-06-2013      0\n",
       "10-08-2013    255\n",
       "10-10-2013    255\n",
       "10-12-2013      0\n",
       "dtype: int64"
      ]
     },
     "execution_count": 219,
     "metadata": {},
     "output_type": "execute_result"
    }
   ],
   "source": [
    "# Calculate the count of null values for each column in the inp1 DataFrame\n",
    "inp1.isnull().sum()\n"
   ]
  },
  {
   "cell_type": "markdown",
   "metadata": {},
   "source": [
    "#### Handling Missing Values in \"Dress Sales\" Dataset\n",
    "\n",
    "Following the completion of data operations, it becomes evident that certain columns in the \"Dress Sales\" dataset contain more than 40% missing values. As part of our project, we need to take the following steps to handle these missing values:\n",
    "\n",
    "1. Identify columns in the \"Dress Sales\" data with more than 40% missing values.\n",
    "2. Determine the most suitable strategy for addressing these missing values.\n",
    "3. Implement the chosen strategy to effectively handle missing values in the dataset.\n"
   ]
  },
  {
   "cell_type": "code",
   "execution_count": 220,
   "metadata": {},
   "outputs": [
    {
     "data": {
      "text/plain": [
       "Dress_ID       0.000000\n",
       "29-08-2013     0.000000\n",
       "31-08-2013     0.000000\n",
       "09-02-2013     0.000000\n",
       "09-04-2013     0.000000\n",
       "09-06-2013     0.000000\n",
       "09-08-2013     0.000000\n",
       "09-10-2013     0.000000\n",
       "09-12-2013     0.208768\n",
       "14-09-2013     0.208768\n",
       "16-09-2013     0.208768\n",
       "18-09-2013     0.208768\n",
       "20-09-2013     0.208768\n",
       "22-09-2013     0.208768\n",
       "24-09-2013     0.000000\n",
       "26-09-2013    46.346555\n",
       "28-09-2013     0.000000\n",
       "30-09-2013    53.653445\n",
       "10-02-2013    54.070981\n",
       "10-04-2013    53.862213\n",
       "10-06-2013     0.000000\n",
       "10-08-2013    53.235908\n",
       "10-10-2013    53.235908\n",
       "10-12-2013     0.000000\n",
       "dtype: float64"
      ]
     },
     "execution_count": 220,
     "metadata": {},
     "output_type": "execute_result"
    }
   ],
   "source": [
    "# Calculate the percentage of missing values for each column in the inp1 DataFrame\n",
    "inp1_missing_percentage = inp1.isnull().mean() * 100\n",
    "inp1_missing_percentage"
   ]
  },
  {
   "cell_type": "markdown",
   "metadata": {
    "scrolled": true
   },
   "source": [
    "#### Criteria for Dropping Columns with Missing Values\n",
    "\n",
    "While the presence of a large number of missing values in certain columns is one criterion for removal, another significant factor is the low sales values associated with these dates. Considering both criteria, it is deemed safe to remove columns with more than 40% missing values from the dataset.\n"
   ]
  },
  {
   "cell_type": "code",
   "execution_count": 221,
   "metadata": {},
   "outputs": [
    {
     "data": {
      "text/plain": [
       "Dress_ID      0.000000\n",
       "29-08-2013    0.000000\n",
       "31-08-2013    0.000000\n",
       "09-02-2013    0.000000\n",
       "09-04-2013    0.000000\n",
       "09-06-2013    0.000000\n",
       "09-08-2013    0.000000\n",
       "09-10-2013    0.000000\n",
       "09-12-2013    0.208768\n",
       "14-09-2013    0.208768\n",
       "16-09-2013    0.208768\n",
       "18-09-2013    0.208768\n",
       "20-09-2013    0.208768\n",
       "22-09-2013    0.208768\n",
       "24-09-2013    0.000000\n",
       "28-09-2013    0.000000\n",
       "10-06-2013    0.000000\n",
       "10-12-2013    0.000000\n",
       "dtype: float64"
      ]
     },
     "execution_count": 221,
     "metadata": {},
     "output_type": "execute_result"
    }
   ],
   "source": [
    "# Drop columns with specific dates from the inp1 DataFrame\n",
    "inp1 = inp1.drop([\"26-09-2013\"], axis=1)\n",
    "inp1 = inp1.drop([\"30-09-2013\"], axis=1)\n",
    "inp1 = inp1.drop([\"10-02-2013\"], axis=1)\n",
    "inp1 = inp1.drop([\"10-04-2013\"], axis=1)\n",
    "inp1 = inp1.drop([\"10-08-2013\"], axis=1)\n",
    "inp1 = inp1.drop([\"10-10-2013\"], axis=1)\n",
    "\n",
    "# Calculate the percentage of missing values for each column in the inp1 DataFrame\n",
    "inp1_missing_percentage = inp1.isnull().mean() * 100\n",
    "inp1_missing_percentage\n"
   ]
  },
  {
   "cell_type": "markdown",
   "metadata": {},
   "source": [
    "#### Categorizing Dates into Seasons\n",
    "\n",
    "To streamline the analysis in the \"Dress Sales\" data, it's advisable to categorize dates into seasons based on the following criteria:\n",
    "\n",
    "- June, July, and August: Summer\n",
    "- September, October, and November: Autumn\n",
    "- December, January, and February: Winter\n",
    "- March, April, and May: Spring\n"
   ]
  },
  {
   "cell_type": "code",
   "execution_count": 222,
   "metadata": {},
   "outputs": [
    {
     "data": {
      "text/plain": [
       "Summer     691907.0\n",
       "Autumn    1353543.0\n",
       "Winter     473640.0\n",
       "Spring     143600.0\n",
       "dtype: float64"
      ]
     },
     "execution_count": 222,
     "metadata": {},
     "output_type": "execute_result"
    }
   ],
   "source": [
    "# Create four seasons columns in the inp1 DataFrame based on the provided criteria\n",
    "\n",
    "# Spring: March, April, and May\n",
    "inp1['Spring'] = inp1.apply(lambda x: x['09-04-2013'], axis=1)\n",
    "\n",
    "# Summer: June, July, and August\n",
    "inp1['Summer'] = inp1.apply(lambda x: x['29-08-2013'] + x['31-08-2013'] + x['09-06-2013'] + x['09-08-2013'] + x['10-06-2013'], axis=1)\n",
    "\n",
    "# Winter: December, January, and February\n",
    "inp1['Winter'] = inp1.apply(lambda x: x['09-02-2013'] + x['09-12-2013'] + x['10-12-2013'], axis=1)\n",
    "\n",
    "# Autumn: September, October, and November\n",
    "inp1['Autumn'] = inp1.apply(lambda x: x['09-10-2013'] + x['14-09-2013'] + x['16-09-2013'] + x['18-09-2013'] + x['20-09-2013'] + x['22-09-2013'] + x['24-09-2013'] + x['28-09-2013'], axis=1)\n",
    "\n",
    "season_sales_sum = inp1[['Summer', 'Autumn', 'Winter', 'Spring']].sum()\n",
    "season_sales_sum"
   ]
  },
  {
   "cell_type": "code",
   "execution_count": 223,
   "metadata": {},
   "outputs": [
    {
     "data": {
      "text/plain": [
       "Dress_ID           0.000000\n",
       "Style              0.000000\n",
       "Price              0.417537\n",
       "Rating             0.000000\n",
       "Size               0.000000\n",
       "Season             0.417537\n",
       "NeckLine           0.626305\n",
       "SleeveLength       0.417537\n",
       "Material          24.843424\n",
       "FabricType        53.444676\n",
       "Decoration        46.764092\n",
       "Pattern Type      21.294363\n",
       "Recommendation     0.000000\n",
       "dtype: float64"
      ]
     },
     "execution_count": 223,
     "metadata": {},
     "output_type": "execute_result"
    }
   ],
   "source": [
    "# Calculate the percentage of missing values for each column in the inp0 DataFrame\n",
    "inp0_missing_percentage = inp0.isnull().mean() * 100\n",
    "inp0_missing_percentage\n"
   ]
  },
  {
   "cell_type": "markdown",
   "metadata": {},
   "source": [
    "#### Merging inp1 with inp0 Using Left Join\n",
    "\n",
    "Next, we'll merge the inp1 DataFrame with inp0 using a left join approach. This ensures that the information from inp0 remains intact throughout the merging process.\n"
   ]
  },
  {
   "cell_type": "code",
   "execution_count": 224,
   "metadata": {},
   "outputs": [
    {
     "data": {
      "text/html": [
       "<div>\n",
       "<style scoped>\n",
       "    .dataframe tbody tr th:only-of-type {\n",
       "        vertical-align: middle;\n",
       "    }\n",
       "\n",
       "    .dataframe tbody tr th {\n",
       "        vertical-align: top;\n",
       "    }\n",
       "\n",
       "    .dataframe thead th {\n",
       "        text-align: right;\n",
       "    }\n",
       "</style>\n",
       "<table border=\"1\" class=\"dataframe\">\n",
       "  <thead>\n",
       "    <tr style=\"text-align: right;\">\n",
       "      <th></th>\n",
       "      <th>Dress_ID</th>\n",
       "      <th>Style</th>\n",
       "      <th>Price</th>\n",
       "      <th>Rating</th>\n",
       "      <th>Size</th>\n",
       "      <th>Season</th>\n",
       "      <th>NeckLine</th>\n",
       "      <th>SleeveLength</th>\n",
       "      <th>Material</th>\n",
       "      <th>FabricType</th>\n",
       "      <th>...</th>\n",
       "      <th>20-09-2013</th>\n",
       "      <th>22-09-2013</th>\n",
       "      <th>24-09-2013</th>\n",
       "      <th>28-09-2013</th>\n",
       "      <th>10-06-2013</th>\n",
       "      <th>10-12-2013</th>\n",
       "      <th>Spring</th>\n",
       "      <th>Summer</th>\n",
       "      <th>Winter</th>\n",
       "      <th>Autumn</th>\n",
       "    </tr>\n",
       "  </thead>\n",
       "  <tbody>\n",
       "    <tr>\n",
       "      <th>0</th>\n",
       "      <td>1006032852</td>\n",
       "      <td>Sexy</td>\n",
       "      <td>Low</td>\n",
       "      <td>4.6</td>\n",
       "      <td>Medium</td>\n",
       "      <td>Summer</td>\n",
       "      <td>o-neck</td>\n",
       "      <td>sleevless</td>\n",
       "      <td>NaN</td>\n",
       "      <td>chiffon</td>\n",
       "      <td>...</td>\n",
       "      <td>3386.0</td>\n",
       "      <td>3479.0</td>\n",
       "      <td>3554</td>\n",
       "      <td>3706</td>\n",
       "      <td>3897</td>\n",
       "      <td>4048</td>\n",
       "      <td>2660.0</td>\n",
       "      <td>13899.0</td>\n",
       "      <td>9658.0</td>\n",
       "      <td>26857.0</td>\n",
       "    </tr>\n",
       "    <tr>\n",
       "      <th>1</th>\n",
       "      <td>1212192089</td>\n",
       "      <td>Casual</td>\n",
       "      <td>Low</td>\n",
       "      <td>0.0</td>\n",
       "      <td>Large</td>\n",
       "      <td>Summer</td>\n",
       "      <td>o-neck</td>\n",
       "      <td>Petal</td>\n",
       "      <td>microfiber</td>\n",
       "      <td>NaN</td>\n",
       "      <td>...</td>\n",
       "      <td>2106.0</td>\n",
       "      <td>2454.0</td>\n",
       "      <td>2710</td>\n",
       "      <td>3258</td>\n",
       "      <td>3911</td>\n",
       "      <td>4277</td>\n",
       "      <td>750.0</td>\n",
       "      <td>6216.0</td>\n",
       "      <td>6405.0</td>\n",
       "      <td>17311.0</td>\n",
       "    </tr>\n",
       "    <tr>\n",
       "      <th>2</th>\n",
       "      <td>1190380701</td>\n",
       "      <td>vintage</td>\n",
       "      <td>High</td>\n",
       "      <td>0.0</td>\n",
       "      <td>Large</td>\n",
       "      <td>Automn</td>\n",
       "      <td>o-neck</td>\n",
       "      <td>full</td>\n",
       "      <td>polyster</td>\n",
       "      <td>NaN</td>\n",
       "      <td>...</td>\n",
       "      <td>10.0</td>\n",
       "      <td>11.0</td>\n",
       "      <td>11</td>\n",
       "      <td>11</td>\n",
       "      <td>11</td>\n",
       "      <td>11</td>\n",
       "      <td>7.0</td>\n",
       "      <td>40.0</td>\n",
       "      <td>28.0</td>\n",
       "      <td>82.0</td>\n",
       "    </tr>\n",
       "    <tr>\n",
       "      <th>3</th>\n",
       "      <td>966005983</td>\n",
       "      <td>Brief</td>\n",
       "      <td>Average</td>\n",
       "      <td>4.6</td>\n",
       "      <td>Large</td>\n",
       "      <td>Spring</td>\n",
       "      <td>o-neck</td>\n",
       "      <td>full</td>\n",
       "      <td>silk</td>\n",
       "      <td>chiffon</td>\n",
       "      <td>...</td>\n",
       "      <td>1812.0</td>\n",
       "      <td>1845.0</td>\n",
       "      <td>1878</td>\n",
       "      <td>1914</td>\n",
       "      <td>1952</td>\n",
       "      <td>1963</td>\n",
       "      <td>1455.0</td>\n",
       "      <td>7213.0</td>\n",
       "      <td>5012.0</td>\n",
       "      <td>14411.0</td>\n",
       "    </tr>\n",
       "    <tr>\n",
       "      <th>4</th>\n",
       "      <td>876339541</td>\n",
       "      <td>cute</td>\n",
       "      <td>Low</td>\n",
       "      <td>4.5</td>\n",
       "      <td>Medium</td>\n",
       "      <td>Summer</td>\n",
       "      <td>o-neck</td>\n",
       "      <td>butterfly</td>\n",
       "      <td>chiffonfabric</td>\n",
       "      <td>chiffon</td>\n",
       "      <td>...</td>\n",
       "      <td>1824.0</td>\n",
       "      <td>1919.0</td>\n",
       "      <td>2032</td>\n",
       "      <td>2252</td>\n",
       "      <td>2544</td>\n",
       "      <td>2736</td>\n",
       "      <td>1396.0</td>\n",
       "      <td>7706.0</td>\n",
       "      <td>5678.0</td>\n",
       "      <td>14676.0</td>\n",
       "    </tr>\n",
       "  </tbody>\n",
       "</table>\n",
       "<p>5 rows × 34 columns</p>\n",
       "</div>"
      ],
      "text/plain": [
       "     Dress_ID    Style    Price  Rating    Size  Season NeckLine SleeveLength  \\\n",
       "0  1006032852     Sexy      Low     4.6  Medium  Summer   o-neck    sleevless   \n",
       "1  1212192089   Casual      Low     0.0   Large  Summer   o-neck        Petal   \n",
       "2  1190380701  vintage     High     0.0   Large  Automn   o-neck         full   \n",
       "3   966005983    Brief  Average     4.6   Large  Spring   o-neck         full   \n",
       "4   876339541     cute      Low     4.5  Medium  Summer   o-neck    butterfly   \n",
       "\n",
       "        Material FabricType  ... 20-09-2013 22-09-2013  24-09-2013  \\\n",
       "0            NaN    chiffon  ...     3386.0     3479.0        3554   \n",
       "1     microfiber        NaN  ...     2106.0     2454.0        2710   \n",
       "2       polyster        NaN  ...       10.0       11.0          11   \n",
       "3           silk    chiffon  ...     1812.0     1845.0        1878   \n",
       "4  chiffonfabric    chiffon  ...     1824.0     1919.0        2032   \n",
       "\n",
       "   28-09-2013  10-06-2013  10-12-2013  Spring   Summer  Winter   Autumn  \n",
       "0        3706        3897        4048  2660.0  13899.0  9658.0  26857.0  \n",
       "1        3258        3911        4277   750.0   6216.0  6405.0  17311.0  \n",
       "2          11          11          11     7.0     40.0    28.0     82.0  \n",
       "3        1914        1952        1963  1455.0   7213.0  5012.0  14411.0  \n",
       "4        2252        2544        2736  1396.0   7706.0  5678.0  14676.0  \n",
       "\n",
       "[5 rows x 34 columns]"
      ]
     },
     "execution_count": 224,
     "metadata": {},
     "output_type": "execute_result"
    }
   ],
   "source": [
    "# Merge inp0 with inp1 into inp0 using a left merge\n",
    "inp0 = pd.merge(left=inp0, right=inp1, how='left', left_on='Dress_ID', right_on='Dress_ID')\n",
    "\n",
    "# Display the first few rows of the merged DataFrame\n",
    "inp0.head()\n"
   ]
  },
  {
   "cell_type": "code",
   "execution_count": 225,
   "metadata": {},
   "outputs": [
    {
     "data": {
      "text/plain": [
       "Dress_ID            0\n",
       "Style               0\n",
       "Price               2\n",
       "Rating              0\n",
       "Size                0\n",
       "Season              2\n",
       "NeckLine            3\n",
       "SleeveLength        2\n",
       "Material          119\n",
       "FabricType        256\n",
       "Decoration        224\n",
       "Pattern Type      102\n",
       "Recommendation      0\n",
       "Spring              0\n",
       "Summer              0\n",
       "Winter              1\n",
       "Autumn              2\n",
       "dtype: int64"
      ]
     },
     "execution_count": 225,
     "metadata": {},
     "output_type": "execute_result"
    }
   ],
   "source": [
    "# Drop the Date columns from inp0 as they are already combined into four seasons\n",
    "inp0.drop(inp0.loc[:, '29-08-2013':'10-12-2013'].columns, axis=1, inplace=True)\n",
    "\n",
    "# Check for null values after dropping the Date columns\n",
    "inp0.isnull().sum()\n"
   ]
  },
  {
   "cell_type": "markdown",
   "metadata": {},
   "source": [
    "#### Categorizing Variables Based on Missing Values\n",
    "\n",
    "Upon inspection, it's evident that the variables exhibit two types of missing value patterns:\n",
    "\n",
    "**Type-1**: Variables with very few missing values (approximately 2 or 3 missing values):\n",
    "- Price\n",
    "- Season\n",
    "- NeckLine\n",
    "- SleeveLength\n",
    "- Winter\n",
    "- Autumn\n",
    "\n",
    "**Type-2**: Variables with a large number of missing values (more than 15%):\n",
    "- Material\n",
    "- FabricType\n",
    "- Decoration\n",
    "- Pattern Type\n",
    "\n",
    "To handle these patterns effectively:\n",
    "\n",
    "- For Type-1 columns, simply drop the missing values.\n",
    "- For Type-2 columns, create a separate category named \"Missing category\" to represent missing values.\n"
   ]
  },
  {
   "cell_type": "code",
   "execution_count": 226,
   "metadata": {},
   "outputs": [],
   "source": [
    "# Drop missing values for Type-1 columns: Price, Season, NeckLine, SleeveLength, Winter, and Autumn\n",
    "inp0 = inp0[~inp0.Price.isnull()]\n",
    "inp0 = inp0[~inp0.Season.isnull()]\n",
    "inp0 = inp0[~inp0.NeckLine.isnull()]\n",
    "inp0 = inp0[~inp0.SleeveLength.isnull()]\n",
    "inp1 = inp1[~inp1.Winter.isnull()]\n",
    "inp1 = inp1[~inp1.Autumn.isnull()]\n"
   ]
  },
  {
   "cell_type": "code",
   "execution_count": 227,
   "metadata": {},
   "outputs": [],
   "source": [
    "# Replace missing values in Type-2 columns with a new category named \"Missing\"\n",
    "inp0.Material = inp0.Material.replace(np.nan, \"Missing\")\n",
    "inp0.FabricType = inp0.FabricType.replace(np.nan, \"Missing\")\n",
    "inp0.Decoration = inp0.Decoration.replace(np.nan, \"Missing\")\n",
    "inp0['Pattern Type'] = inp0['Pattern Type'].replace(np.nan, \"Missing\")\n"
   ]
  },
  {
   "cell_type": "markdown",
   "metadata": {},
   "source": [
    "## Standardise value\n",
    "In the dataset, certain categorical variables exhibit irregularities such as irregular spellings. The correct options for columns with irregular categories that need to be updated are as follows:\n",
    "\n",
    "- Season, NeckLine\n",
    "- Price, Material\n",
    "- FabricType, Decoration\n",
    "\n",
    "To address this issue, we need to standardize the categorical values. Specifically, the Season and SleeveLength columns contain spelling mistakes in the categorical names, which require rectification. Below is the code snippet to perform this operation.\n"
   ]
  },
  {
   "cell_type": "code",
   "execution_count": 228,
   "metadata": {},
   "outputs": [
    {
     "data": {
      "text/plain": [
       "array(['Summer', 'Automn', 'Spring', 'Winter', 'spring', 'winter',\n",
       "       'Autumn'], dtype=object)"
      ]
     },
     "execution_count": 228,
     "metadata": {},
     "output_type": "execute_result"
    }
   ],
   "source": [
    "# Get the unique values in the Season column of the inp0 DataFrame\n",
    "inp0.Season.unique()\n"
   ]
  },
  {
   "cell_type": "code",
   "execution_count": 229,
   "metadata": {},
   "outputs": [
    {
     "data": {
      "text/plain": [
       "Season\n",
       "Summer    151\n",
       "Winter    137\n",
       "Spring    118\n",
       "Autumn     66\n",
       "Name: count, dtype: int64"
      ]
     },
     "execution_count": 229,
     "metadata": {},
     "output_type": "execute_result"
    }
   ],
   "source": [
    "# Correcting the spelling of seasons in the Season column of inp0 DataFrame\n",
    "inp0.Season = inp0.Season.replace('Automn', \"Autumn\")\n",
    "inp0.Season = inp0.Season.replace('spring', \"Spring\")\n",
    "inp0.Season = inp0.Season.replace('winter', \"Winter\")\n",
    "\n",
    "# Check the updated value counts of the Season column in inp0 DataFrame\n",
    "inp0.Season.value_counts()\n"
   ]
  },
  {
   "cell_type": "code",
   "execution_count": 230,
   "metadata": {},
   "outputs": [
    {
     "data": {
      "text/plain": [
       "array(['sleevless', 'Petal', 'full', 'butterfly', 'short', 'threequarter',\n",
       "       'halfsleeve', 'cap-sleeves', 'turndowncollor', 'threequater',\n",
       "       'capsleeves', 'sleeveless', 'sleeevless', 'half', 'urndowncollor',\n",
       "       'thressqatar', 'sleveless'], dtype=object)"
      ]
     },
     "execution_count": 230,
     "metadata": {},
     "output_type": "execute_result"
    }
   ],
   "source": [
    "# Get the unique values in the SleeveLength column in inp0 DataFrame\n",
    "inp0.SleeveLength.unique()\n"
   ]
  },
  {
   "cell_type": "code",
   "execution_count": 231,
   "metadata": {},
   "outputs": [
    {
     "data": {
      "text/plain": [
       "SleeveLength\n",
       "sleeve less         220\n",
       "full sleeves         92\n",
       "short                92\n",
       "half sleeves         33\n",
       "three quater         26\n",
       "cap sleeves           5\n",
       "turn down collar      2\n",
       "Petal                 1\n",
       "butterfly             1\n",
       "Name: count, dtype: int64"
      ]
     },
     "execution_count": 231,
     "metadata": {},
     "output_type": "execute_result"
    }
   ],
   "source": [
    "# Correcting the spellings and variations of SleeveLength categories in inp0 DataFrame\n",
    "inp0.SleeveLength = inp0.SleeveLength.replace(['cap-sleeves', 'capsleeves'], \"cap sleeves\")\n",
    "inp0.SleeveLength = inp0.SleeveLength.replace('full', \"full sleeves\")\n",
    "inp0.SleeveLength = inp0.SleeveLength.replace(['half','halfsleeve'], \"half sleeves\")\n",
    "inp0.SleeveLength = inp0.SleeveLength.replace(['sleevless', 'sleeevless', 'sleeveless', 'sleveless'], \"sleeve less\")\n",
    "inp0.SleeveLength = inp0.SleeveLength.replace(['threequarter','threequater', 'thressqatar'], \"three quater\")\n",
    "inp0.SleeveLength = inp0.SleeveLength.replace(['turndowncollor','urndowncollor'], \"turn down collar\")\n",
    "\n",
    "# Check the updated value counts of the SleeveLength column in inp0 DataFrame\n",
    "inp0.SleeveLength.value_counts()\n"
   ]
  },
  {
   "cell_type": "code",
   "execution_count": null,
   "metadata": {},
   "outputs": [],
   "source": []
  },
  {
   "cell_type": "markdown",
   "metadata": {},
   "source": [
    "## Univariate Analysis \n",
    "\n",
    "### Categorical Unordered Univariate Analysis\n",
    "\n",
    "As part of our project, we're conducting categorical unordered univariate analysis on the \"Style\" column in the 'Attribute Dataset'. This column contains various style categories of women's apparel.\n",
    "\n",
    "Our objective is to group certain categories in the \"Style\" column into an \"Others\" category if their total sales across all seasons are less than 50,000. This consolidation simplifies the analysis and ensures robust insights.\n",
    "\n",
    "Below are the categories from the \"Style\" column that will be grouped into the \"Others\" category:\n",
    "\n",
    "- Flare, fashion\n",
    "- Novelty, bohemian\n",
    "- OL, fashion, work\n",
    "- Novelty, fashion, Flare\n",
    "\n",
    "We'll now perform the grouping operation in the notebook to facilitate further analysis.\n"
   ]
  },
  {
   "cell_type": "code",
   "execution_count": 232,
   "metadata": {},
   "outputs": [
    {
     "data": {
      "text/html": [
       "<div>\n",
       "<style scoped>\n",
       "    .dataframe tbody tr th:only-of-type {\n",
       "        vertical-align: middle;\n",
       "    }\n",
       "\n",
       "    .dataframe tbody tr th {\n",
       "        vertical-align: top;\n",
       "    }\n",
       "\n",
       "    .dataframe thead th {\n",
       "        text-align: right;\n",
       "    }\n",
       "</style>\n",
       "<table border=\"1\" class=\"dataframe\">\n",
       "  <thead>\n",
       "    <tr style=\"text-align: right;\">\n",
       "      <th></th>\n",
       "      <th>Dress_ID</th>\n",
       "      <th>Rating</th>\n",
       "      <th>Recommendation</th>\n",
       "      <th>Spring</th>\n",
       "      <th>Summer</th>\n",
       "      <th>Winter</th>\n",
       "      <th>Autumn</th>\n",
       "    </tr>\n",
       "    <tr>\n",
       "      <th>Style</th>\n",
       "      <th></th>\n",
       "      <th></th>\n",
       "      <th></th>\n",
       "      <th></th>\n",
       "      <th></th>\n",
       "      <th></th>\n",
       "      <th></th>\n",
       "    </tr>\n",
       "  </thead>\n",
       "  <tbody>\n",
       "    <tr>\n",
       "      <th>Brief</th>\n",
       "      <td>14913154280</td>\n",
       "      <td>69.1</td>\n",
       "      <td>4</td>\n",
       "      <td>7484.0</td>\n",
       "      <td>37303.0</td>\n",
       "      <td>25020.0</td>\n",
       "      <td>69821.0</td>\n",
       "    </tr>\n",
       "    <tr>\n",
       "      <th>Casual</th>\n",
       "      <td>192788739987</td>\n",
       "      <td>765.7</td>\n",
       "      <td>84</td>\n",
       "      <td>60979.0</td>\n",
       "      <td>282913.0</td>\n",
       "      <td>192922.0</td>\n",
       "      <td>566744.0</td>\n",
       "    </tr>\n",
       "    <tr>\n",
       "      <th>Flare</th>\n",
       "      <td>2011575734</td>\n",
       "      <td>0.0</td>\n",
       "      <td>1</td>\n",
       "      <td>71.0</td>\n",
       "      <td>451.0</td>\n",
       "      <td>406.0</td>\n",
       "      <td>1161.0</td>\n",
       "    </tr>\n",
       "    <tr>\n",
       "      <th>Novelty</th>\n",
       "      <td>6799573268</td>\n",
       "      <td>14.1</td>\n",
       "      <td>3</td>\n",
       "      <td>563.0</td>\n",
       "      <td>2866.0</td>\n",
       "      <td>2504.0</td>\n",
       "      <td>7353.0</td>\n",
       "    </tr>\n",
       "    <tr>\n",
       "      <th>OL</th>\n",
       "      <td>1194626925</td>\n",
       "      <td>0.0</td>\n",
       "      <td>0</td>\n",
       "      <td>15.0</td>\n",
       "      <td>63.0</td>\n",
       "      <td>53.0</td>\n",
       "      <td>158.0</td>\n",
       "    </tr>\n",
       "    <tr>\n",
       "      <th>Sexy</th>\n",
       "      <td>60160272862</td>\n",
       "      <td>219.1</td>\n",
       "      <td>26</td>\n",
       "      <td>23451.0</td>\n",
       "      <td>117117.0</td>\n",
       "      <td>81263.0</td>\n",
       "      <td>230524.0</td>\n",
       "    </tr>\n",
       "    <tr>\n",
       "      <th>bohemian</th>\n",
       "      <td>20934098181</td>\n",
       "      <td>89.1</td>\n",
       "      <td>13</td>\n",
       "      <td>3800.0</td>\n",
       "      <td>16119.0</td>\n",
       "      <td>11752.0</td>\n",
       "      <td>37446.0</td>\n",
       "    </tr>\n",
       "    <tr>\n",
       "      <th>cute</th>\n",
       "      <td>38636109599</td>\n",
       "      <td>139.6</td>\n",
       "      <td>22</td>\n",
       "      <td>20022.0</td>\n",
       "      <td>98512.0</td>\n",
       "      <td>63999.0</td>\n",
       "      <td>179466.0</td>\n",
       "    </tr>\n",
       "    <tr>\n",
       "      <th>fashion</th>\n",
       "      <td>836788720</td>\n",
       "      <td>4.0</td>\n",
       "      <td>0</td>\n",
       "      <td>19.0</td>\n",
       "      <td>91.0</td>\n",
       "      <td>74.0</td>\n",
       "      <td>211.0</td>\n",
       "    </tr>\n",
       "    <tr>\n",
       "      <th>party</th>\n",
       "      <td>40796571165</td>\n",
       "      <td>175.2</td>\n",
       "      <td>32</td>\n",
       "      <td>7987.0</td>\n",
       "      <td>35518.0</td>\n",
       "      <td>24558.0</td>\n",
       "      <td>73978.0</td>\n",
       "    </tr>\n",
       "    <tr>\n",
       "      <th>sexy</th>\n",
       "      <td>6479453290</td>\n",
       "      <td>26.7</td>\n",
       "      <td>4</td>\n",
       "      <td>4506.0</td>\n",
       "      <td>24453.0</td>\n",
       "      <td>17953.0</td>\n",
       "      <td>39002.0</td>\n",
       "    </tr>\n",
       "    <tr>\n",
       "      <th>vintage</th>\n",
       "      <td>24745614466</td>\n",
       "      <td>79.2</td>\n",
       "      <td>8</td>\n",
       "      <td>8693.0</td>\n",
       "      <td>46847.0</td>\n",
       "      <td>33595.0</td>\n",
       "      <td>91439.0</td>\n",
       "    </tr>\n",
       "    <tr>\n",
       "      <th>work</th>\n",
       "      <td>15673657463</td>\n",
       "      <td>66.5</td>\n",
       "      <td>3</td>\n",
       "      <td>4893.0</td>\n",
       "      <td>24931.0</td>\n",
       "      <td>16882.0</td>\n",
       "      <td>46389.0</td>\n",
       "    </tr>\n",
       "  </tbody>\n",
       "</table>\n",
       "</div>"
      ],
      "text/plain": [
       "              Dress_ID  Rating  Recommendation   Spring    Summer    Winter  \\\n",
       "Style                                                                         \n",
       "Brief      14913154280    69.1               4   7484.0   37303.0   25020.0   \n",
       "Casual    192788739987   765.7              84  60979.0  282913.0  192922.0   \n",
       "Flare       2011575734     0.0               1     71.0     451.0     406.0   \n",
       "Novelty     6799573268    14.1               3    563.0    2866.0    2504.0   \n",
       "OL          1194626925     0.0               0     15.0      63.0      53.0   \n",
       "Sexy       60160272862   219.1              26  23451.0  117117.0   81263.0   \n",
       "bohemian   20934098181    89.1              13   3800.0   16119.0   11752.0   \n",
       "cute       38636109599   139.6              22  20022.0   98512.0   63999.0   \n",
       "fashion      836788720     4.0               0     19.0      91.0      74.0   \n",
       "party      40796571165   175.2              32   7987.0   35518.0   24558.0   \n",
       "sexy        6479453290    26.7               4   4506.0   24453.0   17953.0   \n",
       "vintage    24745614466    79.2               8   8693.0   46847.0   33595.0   \n",
       "work       15673657463    66.5               3   4893.0   24931.0   16882.0   \n",
       "\n",
       "            Autumn  \n",
       "Style               \n",
       "Brief      69821.0  \n",
       "Casual    566744.0  \n",
       "Flare       1161.0  \n",
       "Novelty     7353.0  \n",
       "OL           158.0  \n",
       "Sexy      230524.0  \n",
       "bohemian   37446.0  \n",
       "cute      179466.0  \n",
       "fashion      211.0  \n",
       "party      73978.0  \n",
       "sexy       39002.0  \n",
       "vintage    91439.0  \n",
       "work       46389.0  "
      ]
     },
     "execution_count": 232,
     "metadata": {},
     "output_type": "execute_result"
    }
   ],
   "source": [
    "style_sales"
   ]
  },
  {
   "cell_type": "code",
   "execution_count": 233,
   "metadata": {},
   "outputs": [
    {
     "data": {
      "text/plain": [
       "Style\n",
       "Brief        139628.0\n",
       "Casual      1103558.0\n",
       "Flare          2089.0\n",
       "Novelty       13286.0\n",
       "OL              289.0\n",
       "Sexy         452355.0\n",
       "bohemian      69117.0\n",
       "cute         361999.0\n",
       "fashion         395.0\n",
       "party        142041.0\n",
       "sexy          85914.0\n",
       "vintage      180574.0\n",
       "work          93095.0\n",
       "Name: Total, dtype: float64"
      ]
     },
     "execution_count": 233,
     "metadata": {},
     "output_type": "execute_result"
    }
   ],
   "source": [
    "# Grouping the total sales for each style across all seasons\n",
    "total_collection = inp0.groupby('Style')[['Spring', 'Winter', 'Autumn', 'Summer']].sum()\n",
    "\n",
    "# Calculating the total sales across all seasons for each style\n",
    "total_collection['Total'] = total_collection.sum(axis=1)\n",
    "\n",
    "# Displaying the total sales for each style across all seasons\n",
    "total_collection['Total']\n"
   ]
  },
  {
   "cell_type": "code",
   "execution_count": 234,
   "metadata": {},
   "outputs": [
    {
     "data": {
      "text/html": [
       "<div>\n",
       "<style scoped>\n",
       "    .dataframe tbody tr th:only-of-type {\n",
       "        vertical-align: middle;\n",
       "    }\n",
       "\n",
       "    .dataframe tbody tr th {\n",
       "        vertical-align: top;\n",
       "    }\n",
       "\n",
       "    .dataframe thead th {\n",
       "        text-align: right;\n",
       "    }\n",
       "</style>\n",
       "<table border=\"1\" class=\"dataframe\">\n",
       "  <thead>\n",
       "    <tr style=\"text-align: right;\">\n",
       "      <th></th>\n",
       "      <th>Spring</th>\n",
       "      <th>Winter</th>\n",
       "      <th>Autumn</th>\n",
       "      <th>Summer</th>\n",
       "      <th>Total</th>\n",
       "    </tr>\n",
       "    <tr>\n",
       "      <th>Style</th>\n",
       "      <th></th>\n",
       "      <th></th>\n",
       "      <th></th>\n",
       "      <th></th>\n",
       "      <th></th>\n",
       "    </tr>\n",
       "  </thead>\n",
       "  <tbody>\n",
       "    <tr>\n",
       "      <th>Flare</th>\n",
       "      <td>71.0</td>\n",
       "      <td>406.0</td>\n",
       "      <td>1161.0</td>\n",
       "      <td>451.0</td>\n",
       "      <td>2089.0</td>\n",
       "    </tr>\n",
       "    <tr>\n",
       "      <th>Novelty</th>\n",
       "      <td>563.0</td>\n",
       "      <td>2504.0</td>\n",
       "      <td>7353.0</td>\n",
       "      <td>2866.0</td>\n",
       "      <td>13286.0</td>\n",
       "    </tr>\n",
       "    <tr>\n",
       "      <th>OL</th>\n",
       "      <td>15.0</td>\n",
       "      <td>53.0</td>\n",
       "      <td>158.0</td>\n",
       "      <td>63.0</td>\n",
       "      <td>289.0</td>\n",
       "    </tr>\n",
       "    <tr>\n",
       "      <th>fashion</th>\n",
       "      <td>19.0</td>\n",
       "      <td>74.0</td>\n",
       "      <td>211.0</td>\n",
       "      <td>91.0</td>\n",
       "      <td>395.0</td>\n",
       "    </tr>\n",
       "  </tbody>\n",
       "</table>\n",
       "</div>"
      ],
      "text/plain": [
       "         Spring  Winter  Autumn  Summer    Total\n",
       "Style                                           \n",
       "Flare      71.0   406.0  1161.0   451.0   2089.0\n",
       "Novelty   563.0  2504.0  7353.0  2866.0  13286.0\n",
       "OL         15.0    53.0   158.0    63.0    289.0\n",
       "fashion    19.0    74.0   211.0    91.0    395.0"
      ]
     },
     "execution_count": 234,
     "metadata": {},
     "output_type": "execute_result"
    }
   ],
   "source": [
    "# Filtering styles with total sales across all seasons less than 50000\n",
    "total_collection[total_collection['Total'] < 50000]\n"
   ]
  },
  {
   "cell_type": "code",
   "execution_count": 235,
   "metadata": {},
   "outputs": [],
   "source": [
    "# Replacing styles with total sales across all seasons less than 50000 with 'Others'\n",
    "inp0.replace(total_collection[total_collection.sum(axis=1)<50000].index, 'Others', inplace=True)\n"
   ]
  },
  {
   "cell_type": "code",
   "execution_count": 236,
   "metadata": {},
   "outputs": [
    {
     "data": {
      "text/plain": [
       "Style\n",
       "Casual      45.974576\n",
       "Sexy        13.771186\n",
       "party       10.169492\n",
       "cute         9.110169\n",
       "vintage      5.296610\n",
       "bohemian     4.872881\n",
       "Brief        3.601695\n",
       "work         3.601695\n",
       "Others       2.118644\n",
       "sexy         1.483051\n",
       "Name: proportion, dtype: float64"
      ]
     },
     "execution_count": 236,
     "metadata": {},
     "output_type": "execute_result"
    }
   ],
   "source": [
    "# Calculate the percentage of each categories in the \"Style\" variable.\n",
    "inp0.Style.value_counts(normalize=True)*100"
   ]
  },
  {
   "cell_type": "code",
   "execution_count": 237,
   "metadata": {},
   "outputs": [
    {
     "data": {
      "image/png": "[encoded data removed]",
      "text/plain": [
       "<Figure size 1000x600 with 1 Axes>"
      ]
     },
     "metadata": {},
     "output_type": "display_data"
    }
   ],
   "source": [
    "# Data for the bar plot\n",
    "style_counts = inp0['Style'].value_counts(normalize=True) * 100\n",
    "\n",
    "# Create a bar plot\n",
    "plt.figure(figsize=(10, 6))\n",
    "style_counts.plot(kind='bar', color='skyblue')\n",
    "plt.xlabel('Style')\n",
    "plt.ylabel('Percentage')\n",
    "plt.title('Distribution of Styles')\n",
    "plt.xticks(rotation=45)\n",
    "plt.tight_layout()\n",
    "\n",
    "# Show plot\n",
    "plt.show()\n"
   ]
  },
  {
   "cell_type": "markdown",
   "metadata": {},
   "source": [
    "Grouping \"NeckLine\" categories into \"Others\" which have less than 50000 sales across all the seasons.\n"
   ]
  },
  {
   "cell_type": "code",
   "execution_count": 238,
   "metadata": {},
   "outputs": [
    {
     "data": {
      "text/plain": [
       "Index(['Dress_ID', 'Style', 'Price', 'Rating', 'Size', 'Season', 'NeckLine',\n",
       "       'SleeveLength', 'Material', 'FabricType', 'Decoration', 'Pattern Type',\n",
       "       'Recommendation', 'Spring', 'Summer', 'Winter', 'Autumn'],\n",
       "      dtype='object')"
      ]
     },
     "execution_count": 238,
     "metadata": {},
     "output_type": "execute_result"
    }
   ],
   "source": [
    "inp0.columns"
   ]
  },
  {
   "cell_type": "code",
   "execution_count": 239,
   "metadata": {},
   "outputs": [
    {
     "data": {
      "text/plain": [
       "NeckLine\n",
       "o-neck             54.025424\n",
       "v-neck             25.000000\n",
       "slash-neck          5.296610\n",
       "boat-neck           3.813559\n",
       "turndowncollor      2.754237\n",
       "Sweetheart          2.754237\n",
       "bowneck             2.118644\n",
       "peterpan-collor     1.059322\n",
       "sqare-collor        1.059322\n",
       "open                0.635593\n",
       "Scoop               0.423729\n",
       "ruffled             0.211864\n",
       "mandarin-collor     0.211864\n",
       "sweetheart          0.211864\n",
       "halter              0.211864\n",
       "backless            0.211864\n",
       "Name: proportion, dtype: float64"
      ]
     },
     "execution_count": 239,
     "metadata": {},
     "output_type": "execute_result"
    }
   ],
   "source": [
    "inp0.NeckLine.value_counts(normalize=True)*100"
   ]
  },
  {
   "cell_type": "code",
   "execution_count": 240,
   "metadata": {},
   "outputs": [
    {
     "data": {
      "text/plain": [
       "NeckLine\n",
       "Scoop                 3135.0\n",
       "Sweetheart           14588.0\n",
       "backless              2888.0\n",
       "boat-neck            53049.0\n",
       "bowneck              21633.0\n",
       "halter                2355.0\n",
       "mandarin-collor        289.0\n",
       "o-neck             1671102.0\n",
       "open                  7396.0\n",
       "peterpan-collor      18908.0\n",
       "ruffled             118871.0\n",
       "slash-neck           68396.0\n",
       "sqare-collor         32395.0\n",
       "sweetheart            2728.0\n",
       "turndowncollor       68496.0\n",
       "v-neck              558111.0\n",
       "Name: Total, dtype: float64"
      ]
     },
     "execution_count": 240,
     "metadata": {},
     "output_type": "execute_result"
    }
   ],
   "source": [
    "# Grouping the neckline sales across all seasons\n",
    "total_neckline = inp0.groupby('NeckLine')[['Spring', 'Winter', 'Autumn', 'Summer']].sum()\n",
    "\n",
    "# Calculating the total sales across all seasons for each neckline\n",
    "total_neckline['Total'] = total_neckline.sum(axis=1)\n",
    "\n",
    "# Displaying the total sales for each neckline category across all seasons\n",
    "total_neckline['Total']\n",
    "\n"
   ]
  },
  {
   "cell_type": "code",
   "execution_count": 241,
   "metadata": {},
   "outputs": [
    {
     "data": {
      "text/html": [
       "<div>\n",
       "<style scoped>\n",
       "    .dataframe tbody tr th:only-of-type {\n",
       "        vertical-align: middle;\n",
       "    }\n",
       "\n",
       "    .dataframe tbody tr th {\n",
       "        vertical-align: top;\n",
       "    }\n",
       "\n",
       "    .dataframe thead th {\n",
       "        text-align: right;\n",
       "    }\n",
       "</style>\n",
       "<table border=\"1\" class=\"dataframe\">\n",
       "  <thead>\n",
       "    <tr style=\"text-align: right;\">\n",
       "      <th></th>\n",
       "      <th>Spring</th>\n",
       "      <th>Winter</th>\n",
       "      <th>Autumn</th>\n",
       "      <th>Summer</th>\n",
       "      <th>Total</th>\n",
       "    </tr>\n",
       "    <tr>\n",
       "      <th>NeckLine</th>\n",
       "      <th></th>\n",
       "      <th></th>\n",
       "      <th></th>\n",
       "      <th></th>\n",
       "      <th></th>\n",
       "    </tr>\n",
       "  </thead>\n",
       "  <tbody>\n",
       "    <tr>\n",
       "      <th>Scoop</th>\n",
       "      <td>198.0</td>\n",
       "      <td>478.0</td>\n",
       "      <td>1802.0</td>\n",
       "      <td>657.0</td>\n",
       "      <td>3135.0</td>\n",
       "    </tr>\n",
       "    <tr>\n",
       "      <th>Sweetheart</th>\n",
       "      <td>911.0</td>\n",
       "      <td>2264.0</td>\n",
       "      <td>8341.0</td>\n",
       "      <td>3072.0</td>\n",
       "      <td>14588.0</td>\n",
       "    </tr>\n",
       "    <tr>\n",
       "      <th>backless</th>\n",
       "      <td>190.0</td>\n",
       "      <td>408.0</td>\n",
       "      <td>1690.0</td>\n",
       "      <td>600.0</td>\n",
       "      <td>2888.0</td>\n",
       "    </tr>\n",
       "    <tr>\n",
       "      <th>bowneck</th>\n",
       "      <td>1325.0</td>\n",
       "      <td>3354.0</td>\n",
       "      <td>12371.0</td>\n",
       "      <td>4583.0</td>\n",
       "      <td>21633.0</td>\n",
       "    </tr>\n",
       "    <tr>\n",
       "      <th>halter</th>\n",
       "      <td>151.0</td>\n",
       "      <td>363.0</td>\n",
       "      <td>1336.0</td>\n",
       "      <td>505.0</td>\n",
       "      <td>2355.0</td>\n",
       "    </tr>\n",
       "    <tr>\n",
       "      <th>mandarin-collor</th>\n",
       "      <td>15.0</td>\n",
       "      <td>53.0</td>\n",
       "      <td>158.0</td>\n",
       "      <td>63.0</td>\n",
       "      <td>289.0</td>\n",
       "    </tr>\n",
       "    <tr>\n",
       "      <th>open</th>\n",
       "      <td>405.0</td>\n",
       "      <td>1330.0</td>\n",
       "      <td>3621.0</td>\n",
       "      <td>2040.0</td>\n",
       "      <td>7396.0</td>\n",
       "    </tr>\n",
       "    <tr>\n",
       "      <th>peterpan-collor</th>\n",
       "      <td>1141.0</td>\n",
       "      <td>3307.0</td>\n",
       "      <td>9031.0</td>\n",
       "      <td>5429.0</td>\n",
       "      <td>18908.0</td>\n",
       "    </tr>\n",
       "    <tr>\n",
       "      <th>sqare-collor</th>\n",
       "      <td>1750.0</td>\n",
       "      <td>5683.0</td>\n",
       "      <td>16503.0</td>\n",
       "      <td>8459.0</td>\n",
       "      <td>32395.0</td>\n",
       "    </tr>\n",
       "    <tr>\n",
       "      <th>sweetheart</th>\n",
       "      <td>181.0</td>\n",
       "      <td>409.0</td>\n",
       "      <td>1557.0</td>\n",
       "      <td>581.0</td>\n",
       "      <td>2728.0</td>\n",
       "    </tr>\n",
       "  </tbody>\n",
       "</table>\n",
       "</div>"
      ],
      "text/plain": [
       "                 Spring  Winter   Autumn  Summer    Total\n",
       "NeckLine                                                 \n",
       "Scoop             198.0   478.0   1802.0   657.0   3135.0\n",
       "Sweetheart        911.0  2264.0   8341.0  3072.0  14588.0\n",
       "backless          190.0   408.0   1690.0   600.0   2888.0\n",
       "bowneck          1325.0  3354.0  12371.0  4583.0  21633.0\n",
       "halter            151.0   363.0   1336.0   505.0   2355.0\n",
       "mandarin-collor    15.0    53.0    158.0    63.0    289.0\n",
       "open              405.0  1330.0   3621.0  2040.0   7396.0\n",
       "peterpan-collor  1141.0  3307.0   9031.0  5429.0  18908.0\n",
       "sqare-collor     1750.0  5683.0  16503.0  8459.0  32395.0\n",
       "sweetheart        181.0   409.0   1557.0   581.0   2728.0"
      ]
     },
     "execution_count": 241,
     "metadata": {},
     "output_type": "execute_result"
    }
   ],
   "source": [
    "# Filtering out neckline categories with total sales less than 50000 across all seasons\n",
    "total_neckline[total_neckline['Total'] < 50000]\n"
   ]
  },
  {
   "cell_type": "code",
   "execution_count": 242,
   "metadata": {},
   "outputs": [],
   "source": [
    "# Grouping neckline categories into \"Others\" where total sales across all seasons are less than 50000\n",
    "inp0.replace(total_neckline[total_neckline.sum(axis=1) < 50000].index, 'Others', inplace=True)\n"
   ]
  },
  {
   "cell_type": "code",
   "execution_count": 243,
   "metadata": {},
   "outputs": [
    {
     "data": {
      "text/plain": [
       "NeckLine\n",
       "o-neck            54.025424\n",
       "v-neck            25.000000\n",
       "Others             7.838983\n",
       "slash-neck         5.296610\n",
       "boat-neck          3.813559\n",
       "turndowncollor     2.754237\n",
       "sqare-collor       1.059322\n",
       "ruffled            0.211864\n",
       "Name: proportion, dtype: float64"
      ]
     },
     "execution_count": 243,
     "metadata": {},
     "output_type": "execute_result"
    }
   ],
   "source": [
    "# Calculate the percentage of each category in the \"Neckline\" variable\n",
    "inp0['NeckLine'].value_counts(normalize=True) * 100\n"
   ]
  },
  {
   "cell_type": "code",
   "execution_count": 244,
   "metadata": {},
   "outputs": [
    {
     "data": {
      "image/png": "[encoded data removed]",
      "text/plain": [
       "<Figure size 1000x600 with 1 Axes>"
      ]
     },
     "metadata": {},
     "output_type": "display_data"
    }
   ],
   "source": [
    "# Data for the bar plot\n",
    "neckline_counts = inp0['NeckLine'].value_counts(normalize=True) * 100\n",
    "\n",
    "# Create a bar plot\n",
    "plt.figure(figsize=(10, 6))\n",
    "neckline_counts.plot(kind='bar', color='green')\n",
    "plt.xlabel('Neckline')\n",
    "plt.ylabel('Percentage')\n",
    "plt.title('Distribution of Neckline')\n",
    "plt.xticks(rotation=45)\n",
    "plt.tight_layout()\n",
    "\n",
    "# Show plot\n",
    "plt.show()\n"
   ]
  },
  {
   "cell_type": "markdown",
   "metadata": {},
   "source": [
    "Grouping \"Sleeve length\" categories into \"Others\" which have less than 50000 sales across all the seasons.\n"
   ]
  },
  {
   "cell_type": "code",
   "execution_count": 245,
   "metadata": {},
   "outputs": [],
   "source": [
    "# Grouping the Sleeve length across all seasons\n",
    "total_sleeve_length = inp0.groupby('SleeveLength')[['Spring', 'Winter', 'Autumn', 'Summer']].sum()\n",
    "\n",
    "# Calculating the total sales across all seasons for each Sleeve length\n",
    "total_sleeve_length['Total'] = total_sleeve_length.sum(axis=1)\n",
    "\n",
    "# Group \"Sleeve length\" categories into \"Others\" which have less than 50000 sales across all the seasons.\n",
    "inp0.replace(total_sleeve_length[total_sleeve_length['Total'] < 50000].index, 'Others', inplace=True)\n"
   ]
  },
  {
   "cell_type": "code",
   "execution_count": 246,
   "metadata": {},
   "outputs": [
    {
     "data": {
      "image/png": "[encoded data removed]",
      "text/plain": [
       "<Figure size 1000x600 with 1 Axes>"
      ]
     },
     "metadata": {},
     "output_type": "display_data"
    }
   ],
   "source": [
    "# Data for the bar plot\n",
    "sleeve_length_counts = inp0['SleeveLength'].value_counts(normalize=True) * 100\n",
    "\n",
    "# Create a bar plot\n",
    "plt.figure(figsize=(10, 6))\n",
    "sleeve_length_counts.plot(kind='bar', color='blue')\n",
    "plt.xlabel('Sleeve Length')\n",
    "plt.ylabel('Percentage')\n",
    "plt.title('Distribution of Sleeve Length')\n",
    "plt.xticks(rotation=45)\n",
    "plt.tight_layout()\n",
    "\n",
    "# Show plot\n",
    "plt.show()\n"
   ]
  },
  {
   "cell_type": "code",
   "execution_count": 247,
   "metadata": {},
   "outputs": [
    {
     "data": {
      "text/plain": [
       "Index(['Dress_ID', 'Style', 'Price', 'Rating', 'Size', 'Season', 'NeckLine',\n",
       "       'SleeveLength', 'Material', 'FabricType', 'Decoration', 'Pattern Type',\n",
       "       'Recommendation', 'Spring', 'Summer', 'Winter', 'Autumn'],\n",
       "      dtype='object')"
      ]
     },
     "execution_count": 247,
     "metadata": {},
     "output_type": "execute_result"
    }
   ],
   "source": [
    "inp0.columns"
   ]
  },
  {
   "cell_type": "markdown",
   "metadata": {},
   "source": [
    "Club material, fabrictype, patterntype and decoration categories into \"Others\" which have less than 25000 sales across all the seasons"
   ]
  },
  {
   "cell_type": "code",
   "execution_count": 248,
   "metadata": {},
   "outputs": [],
   "source": [
    "# Grouping the material across all seasons\n",
    "total_material = inp0.groupby('Material')[['Spring', 'Winter', 'Autumn', 'Summer']].sum()\n",
    "\n",
    "# Calculating the total sales across all seasons for each material\n",
    "total_material['Total'] = total_material.sum(axis=1)\n",
    "\n",
    "# Group \"Material\" categories into \"Others\" which have less than 25000 sales across all the seasons\n",
    "inp0.replace(total_material[total_material['Total'] < 25000].index, 'Others', inplace=True)\n"
   ]
  },
  {
   "cell_type": "code",
   "execution_count": 249,
   "metadata": {},
   "outputs": [
    {
     "data": {
      "image/png": "[encoded data removed]",
      "text/plain": [
       "<Figure size 1000x600 with 1 Axes>"
      ]
     },
     "metadata": {},
     "output_type": "display_data"
    }
   ],
   "source": [
    "# Data for the bar plot\n",
    "material_counts = inp0['Material'].value_counts(normalize=True) * 100\n",
    "\n",
    "# Create a bar plot\n",
    "plt.figure(figsize=(10, 6))\n",
    "material_counts.plot(kind='bar', color='teal')\n",
    "plt.xlabel('Material')\n",
    "plt.ylabel('Percentage')\n",
    "plt.title('Distribution of Material')\n",
    "plt.xticks(rotation=45)\n",
    "plt.tight_layout()\n",
    "\n",
    "# Show plot\n",
    "plt.show()\n"
   ]
  },
  {
   "cell_type": "code",
   "execution_count": 250,
   "metadata": {},
   "outputs": [
    {
     "data": {
      "image/png": "[encoded data removed]",
      "text/plain": [
       "<Figure size 1000x600 with 1 Axes>"
      ]
     },
     "metadata": {},
     "output_type": "display_data"
    }
   ],
   "source": [
    "# Group \"Fabric Type\" categories into \"Others\" which have less than 25000 sales across all the seasons\n",
    "total_fabric_type = inp0.groupby('FabricType')[['Spring', 'Winter', 'Autumn', 'Summer']].sum()\n",
    "total_fabric_type['Total'] = total_fabric_type.sum(axis=1)\n",
    "inp0.replace(total_fabric_type[total_fabric_type.sum(axis=1) < 25000].index, 'Others', inplace=True)\n",
    "\n",
    "# Calculate the percentage of each category in the \"Fabric Type\" variable\n",
    "fabric_type_counts = inp0['FabricType'].value_counts(normalize=True) * 100\n",
    "\n",
    "# Create a bar plot\n",
    "plt.figure(figsize=(10, 6))\n",
    "fabric_type_counts.plot(kind='bar', color='orange')\n",
    "plt.xlabel('Fabric Type')\n",
    "plt.ylabel('Percentage')\n",
    "plt.title('Distribution of Fabric Type')\n",
    "plt.xticks(rotation=45)\n",
    "plt.tight_layout()\n",
    "\n",
    "# Show plot\n",
    "plt.show()\n"
   ]
  },
  {
   "cell_type": "code",
   "execution_count": 251,
   "metadata": {},
   "outputs": [
    {
     "data": {
      "image/png": "[encoded data removed]",
      "text/plain": [
       "<Figure size 1000x600 with 1 Axes>"
      ]
     },
     "metadata": {},
     "output_type": "display_data"
    }
   ],
   "source": [
    "# Group \"Pattern Type\" categories into \"Others\" which have less than 25000 sales across all the seasons\n",
    "total_pattern_type = inp0.groupby('Pattern Type')[['Spring', 'Winter', 'Autumn', 'Summer']].sum()\n",
    "total_pattern_type['Total'] = total_pattern_type.sum(axis=1)\n",
    "inp0.replace(total_pattern_type[total_pattern_type.sum(axis=1) < 25000].index, 'Others', inplace=True)\n",
    "\n",
    "# Calculate the percentage of each category in the \"Pattern Type\" variable\n",
    "pattern_type_counts = inp0['Pattern Type'].value_counts(normalize=True) * 100\n",
    "\n",
    "# Create a bar plot\n",
    "plt.figure(figsize=(10, 6))\n",
    "pattern_type_counts.plot(kind='bar', color='purple')\n",
    "plt.xlabel('Pattern Type')\n",
    "plt.ylabel('Percentage')\n",
    "plt.title('Distribution of Pattern Type')\n",
    "plt.xticks(rotation=45)\n",
    "plt.tight_layout()\n",
    "\n",
    "# Show plot\n",
    "plt.show()\n"
   ]
  },
  {
   "cell_type": "code",
   "execution_count": 252,
   "metadata": {},
   "outputs": [
    {
     "data": {
      "image/png": "[encoded data removed]",
      "text/plain": [
       "<Figure size 1000x600 with 1 Axes>"
      ]
     },
     "metadata": {},
     "output_type": "display_data"
    }
   ],
   "source": [
    "# Group \"Decoration\" categories into \"Others\" which have less than 25000 sales across all the seasons\n",
    "total_decoration = inp0.groupby('Decoration')[['Spring', 'Winter', 'Autumn', 'Summer']].sum()\n",
    "total_decoration['Total'] = total_decoration.sum(axis=1)\n",
    "inp0.replace(total_decoration[total_decoration.sum(axis=1) < 25000].index, 'Others', inplace=True)\n",
    "\n",
    "# Calculate the percentage of each category in the \"Decoration\" variable\n",
    "decoration_counts = inp0['Decoration'].value_counts(normalize=True) * 100\n",
    "\n",
    "# Create a bar plot\n",
    "plt.figure(figsize=(10, 6))\n",
    "decoration_counts.plot(kind='bar', color='red')\n",
    "plt.xlabel('Decoration')\n",
    "plt.ylabel('Percentage')\n",
    "plt.title('Distribution of Decoration')\n",
    "plt.xticks(rotation=45)\n",
    "plt.tight_layout()\n",
    "\n",
    "# Show plot\n",
    "plt.show()\n"
   ]
  },
  {
   "cell_type": "code",
   "execution_count": null,
   "metadata": {},
   "outputs": [],
   "source": []
  },
  {
   "cell_type": "markdown",
   "metadata": {},
   "source": [
    "### Numerical variable Univariate analysis:"
   ]
  },
  {
   "cell_type": "code",
   "execution_count": 253,
   "metadata": {},
   "outputs": [
    {
     "data": {
      "text/plain": [
       "count      471.000000\n",
       "mean      2852.849257\n",
       "std       5037.033044\n",
       "min          1.000000\n",
       "25%        410.500000\n",
       "50%       1334.000000\n",
       "75%       3126.000000\n",
       "max      55532.000000\n",
       "Name: Autumn, dtype: float64"
      ]
     },
     "execution_count": 253,
     "metadata": {},
     "output_type": "execute_result"
    }
   ],
   "source": [
    "# Describe the numerical variable 'Autumn' in the dataset 'inp0'\n",
    "inp0['Autumn'].describe()\n"
   ]
  },
  {
   "cell_type": "code",
   "execution_count": 254,
   "metadata": {},
   "outputs": [
    {
     "data": {
      "image/png": "[encoded data removed]",
      "text/plain": [
       "<Figure size 800x600 with 1 Axes>"
      ]
     },
     "metadata": {},
     "output_type": "display_data"
    }
   ],
   "source": [
    "# Plotting the boxplot of \"Autumn\" column using seaborn\n",
    "plt.figure(figsize=(8, 6))\n",
    "sns.boxplot(x=inp0['Autumn'])\n",
    "plt.title('Boxplot of Autumn Column')\n",
    "plt.xlabel('Autumn')\n",
    "plt.show()\n"
   ]
  },
  {
   "cell_type": "code",
   "execution_count": 255,
   "metadata": {},
   "outputs": [
    {
     "name": "stdout",
     "output_type": "stream",
     "text": [
      "Maximum Winter season value: 20388.0\n",
      "99th percentile of Winter season: 8975.69000000002\n",
      "Difference between maximum and 99th percentile: 11412.30999999998\n"
     ]
    }
   ],
   "source": [
    "# Find the maximum value of the Winter season\n",
    "print(\"Maximum Winter season value:\", inp0['Winter'].max())\n",
    "\n",
    "# Find the 99th percentile of the Winter season\n",
    "print(\"99th percentile of Winter season:\", inp0['Winter'].quantile(0.99))\n",
    "\n",
    "# Calculate the difference between the maximum value and the 99th percentile\n",
    "difference = inp0['Winter'].max() - inp0['Winter'].quantile(0.99)\n",
    "print(\"Difference between maximum and 99th percentile:\", difference)\n"
   ]
  },
  {
   "cell_type": "code",
   "execution_count": 256,
   "metadata": {},
   "outputs": [
    {
     "name": "stdout",
     "output_type": "stream",
     "text": [
      "Maximum Summer season value: 35577.0\n",
      "99th percentile of Summer season: 13971.500000000005\n",
      "Difference between maximum and 99th percentile: 21605.499999999993\n"
     ]
    }
   ],
   "source": [
    "# Find the maximum value of the Summer season\n",
    "print(\"Maximum Summer season value:\", inp0['Summer'].max())\n",
    "\n",
    "# Find the 99th percentile of the Winter season\n",
    "print(\"99th percentile of Summer season:\", inp0['Summer'].quantile(0.99))\n",
    "\n",
    "# Calculate the difference between the maximum value and the 99th percentile\n",
    "difference = inp0['Summer'].max() - inp0['Summer'].quantile(0.99)\n",
    "print(\"Difference between maximum and 99th percentile:\", difference)"
   ]
  },
  {
   "cell_type": "code",
   "execution_count": 257,
   "metadata": {},
   "outputs": [
    {
     "name": "stdout",
     "output_type": "stream",
     "text": [
      "Maximum Spring season value: 7374.0\n",
      "99th percentile of Spring season: 2657.16\n",
      "Difference between maximum and 99th percentile: 4716.84\n"
     ]
    }
   ],
   "source": [
    "# Find the maximum value of the Spring season\n",
    "print(\"Maximum Spring season value:\", inp0['Spring'].max())\n",
    "\n",
    "# Find the 99th percentile of the Spring season\n",
    "print(\"99th percentile of Spring season:\", inp0['Spring'].quantile(0.99))\n",
    "\n",
    "# Calculate the difference between the maximum value and the 99th percentile\n",
    "difference = inp0['Spring'].max() - inp0['Spring'].quantile(0.99)\n",
    "print(\"Difference between maximum and 99th percentile:\", difference)"
   ]
  },
  {
   "cell_type": "code",
   "execution_count": 258,
   "metadata": {},
   "outputs": [
    {
     "name": "stdout",
     "output_type": "stream",
     "text": [
      "Maximum Spring season value: 55532.0\n",
      "99th percentile of Autumn season: 24134.000000000025\n",
      "Difference between maximum and 99th percentile: 31397.999999999975\n"
     ]
    }
   ],
   "source": [
    "# Find the maximum value of the Autumn season\n",
    "print(\"Maximum Spring season value:\", inp0['Autumn'].max())\n",
    "\n",
    "# Find the 99th percentile of the Autumn season\n",
    "print(\"99th percentile of Autumn season:\", inp0['Autumn'].quantile(0.99))\n",
    "\n",
    "# Calculate the difference between the maximum value and the 99th percentile\n",
    "difference = inp0['Autumn'].max() - inp0['Autumn'].quantile(0.99)\n",
    "print(\"Difference between maximum and 99th percentile:\", difference)"
   ]
  },
  {
   "cell_type": "code",
   "execution_count": null,
   "metadata": {},
   "outputs": [],
   "source": []
  },
  {
   "cell_type": "markdown",
   "metadata": {},
   "source": [
    "## Bivariate Analysis "
   ]
  },
  {
   "cell_type": "markdown",
   "metadata": {},
   "source": [
    "### Numerical- Categorical analysis"
   ]
  },
  {
   "cell_type": "code",
   "execution_count": 259,
   "metadata": {},
   "outputs": [
    {
     "name": "stdout",
     "output_type": "stream",
     "text": [
      "Price\n",
      "Average      3.455042\n",
      "High         2.914286\n",
      "Low          3.731481\n",
      "Medium       3.156667\n",
      "very-high    3.123810\n",
      "Name: Rating, dtype: float64\n"
     ]
    }
   ],
   "source": [
    "# Group the data by the \"Price\" category and calculate the mean of the \"Rating\" column for each group\n",
    "mean_ratings_by_price = inp0.groupby('Price')['Rating'].mean()\n",
    "\n",
    "# Display the mean ratings for each price category\n",
    "print(mean_ratings_by_price)\n"
   ]
  },
  {
   "cell_type": "code",
   "execution_count": 260,
   "metadata": {},
   "outputs": [
    {
     "name": "stdout",
     "output_type": "stream",
     "text": [
      "Style\n",
      "Brief       4.6\n",
      "Casual      4.6\n",
      "Others      0.0\n",
      "Sexy        4.6\n",
      "bohemian    4.6\n",
      "cute        4.6\n",
      "party       4.7\n",
      "sexy        4.5\n",
      "vintage     4.6\n",
      "work        4.7\n",
      "Name: Rating, dtype: float64\n"
     ]
    }
   ],
   "source": [
    "# Group the data by the \"Style\" category and calculate the median of the \"Rating\" column for each group\n",
    "median_ratings_by_style = inp0.groupby('Style')['Rating'].median()\n",
    "\n",
    "# Display the median ratings for each style category\n",
    "print(median_ratings_by_style)\n"
   ]
  },
  {
   "cell_type": "code",
   "execution_count": 261,
   "metadata": {},
   "outputs": [
    {
     "name": "stdout",
     "output_type": "stream",
     "text": [
      "Recommendation\n",
      "0    1433.547794\n",
      "1    1486.295000\n",
      "Name: Summer, dtype: float64\n"
     ]
    }
   ],
   "source": [
    "# Group the data by the \"Recommendation\" column and calculate the mean of the \"Summer\" column for each group\n",
    "summer_sale_vs_recommendation = inp0.groupby('Recommendation')['Summer'].mean()\n",
    "\n",
    "# Display the mean summer sales for each recommendation category\n",
    "print(summer_sale_vs_recommendation)\n"
   ]
  },
  {
   "cell_type": "code",
   "execution_count": 262,
   "metadata": {},
   "outputs": [
    {
     "name": "stdout",
     "output_type": "stream",
     "text": [
      "Recommendation\n",
      "0    298.209559\n",
      "1    306.850000\n",
      "Name: Spring, dtype: float64\n"
     ]
    }
   ],
   "source": [
    "# Group the data by the \"Recommendation\" column and calculate the mean of the \"Spring\" column for each group\n",
    "Spring_sale_vs_recommendation = inp0.groupby('Recommendation')['Spring'].mean()\n",
    "\n",
    "# Display the mean summer sales for each recommendation category\n",
    "print(Spring_sale_vs_recommendation)\n"
   ]
  },
  {
   "cell_type": "code",
   "execution_count": 263,
   "metadata": {},
   "outputs": [
    {
     "name": "stdout",
     "output_type": "stream",
     "text": [
      "Recommendation\n",
      "0    2841.720588\n",
      "1    2868.060302\n",
      "Name: Autumn, dtype: float64\n"
     ]
    }
   ],
   "source": [
    "# Group the data by the \"Recommendation\" column and calculate the mean of the \"Autumn\" column for each group\n",
    "Autumn_sale_vs_recommendation = inp0.groupby('Recommendation')['Autumn'].mean()\n",
    "\n",
    "# Display the mean Autumn sales for each recommendation category\n",
    "print(Autumn_sale_vs_recommendation)\n"
   ]
  },
  {
   "cell_type": "code",
   "execution_count": 264,
   "metadata": {},
   "outputs": [
    {
     "name": "stdout",
     "output_type": "stream",
     "text": [
      "Recommendation\n",
      "0     987.654412\n",
      "1    1011.695000\n",
      "Name: Winter, dtype: float64\n"
     ]
    }
   ],
   "source": [
    "# Group the data by the \"Recommendation\" column and calculate the mean of the \"Winter\" column for each group\n",
    "Winter_sale_vs_recommendation = inp0.groupby('Recommendation')['Winter'].mean()\n",
    "\n",
    "# Display the mean Winter sales for each recommendation category\n",
    "print(Winter_sale_vs_recommendation)\n"
   ]
  },
  {
   "cell_type": "code",
   "execution_count": 265,
   "metadata": {},
   "outputs": [
    {
     "name": "stdout",
     "output_type": "stream",
     "text": [
      "Season\n",
      "Autumn    0.333333\n",
      "Spring    0.601695\n",
      "Summer    0.337748\n",
      "Winter    0.408759\n",
      "Name: Recommendation, dtype: float64\n"
     ]
    }
   ],
   "source": [
    "# Calculate the mean of the \"Recommendation\" column grouped by the \"Season\" column\n",
    "recommendation_by_season = inp0['Recommendation'].groupby(inp0['Season']).mean()\n",
    "\n",
    "# Display the mean recommendation for each season\n",
    "print(recommendation_by_season)\n"
   ]
  },
  {
   "cell_type": "code",
   "execution_count": null,
   "metadata": {},
   "outputs": [],
   "source": []
  },
  {
   "cell_type": "markdown",
   "metadata": {},
   "source": [
    "### Categorical categorical bivariate analysis\n"
   ]
  },
  {
   "cell_type": "code",
   "execution_count": 266,
   "metadata": {},
   "outputs": [
    {
     "name": "stdout",
     "output_type": "stream",
     "text": [
      "Size\n",
      "Extra large    0.285714\n",
      "Free           0.456790\n",
      "Large          0.366667\n",
      "Medium         0.447059\n",
      "Small          0.361111\n",
      "Name: Recommendation, dtype: float64\n"
     ]
    }
   ],
   "source": [
    "# Calculate the mean of the \"Recommendation\" column grouped by the \"Size\" column\n",
    "recommendation_by_size = inp0.groupby('Size')['Recommendation'].mean()\n",
    "\n",
    "# Display the mean recommendation for each size\n",
    "print(recommendation_by_size)\n"
   ]
  },
  {
   "cell_type": "code",
   "execution_count": 267,
   "metadata": {},
   "outputs": [
    {
     "data": {
      "image/png": "[encoded data removed]",
      "text/plain": [
       "<Figure size 640x480 with 1 Axes>"
      ]
     },
     "metadata": {},
     "output_type": "display_data"
    },
    {
     "name": "stdout",
     "output_type": "stream",
     "text": [
      "Size\n",
      "Extra large     4\n",
      "Free           74\n",
      "Large          33\n",
      "Medium         76\n",
      "Small          13\n",
      "Name: Recommendation, dtype: int64\n"
     ]
    }
   ],
   "source": [
    "# Calculate the mean of the \"Recommendation\" column grouped by the \"Size\" column\n",
    "mean_recommendation_by_size = inp0.groupby('Size')['Recommendation'].mean()\n",
    "\n",
    "# Plot the mean recommendation for each size using a horizontal bar plot\n",
    "mean_recommendation_by_size.plot(kind='barh', color='lightgreen')\n",
    "plt.xlabel('Mean Recommendation Score')\n",
    "plt.ylabel('Size')\n",
    "plt.title('Mean Recommendation Score by Size')\n",
    "plt.show()\n",
    "\n",
    "# Calculate the sum of the \"Recommendation\" column grouped by the \"Size\" column\n",
    "sum_recommendation_by_size = inp0.groupby('Size')['Recommendation'].sum()\n",
    "\n",
    "# Display the sum of recommendations for each size\n",
    "print(sum_recommendation_by_size)\n"
   ]
  },
  {
   "cell_type": "code",
   "execution_count": null,
   "metadata": {},
   "outputs": [],
   "source": []
  },
  {
   "cell_type": "markdown",
   "metadata": {},
   "source": [
    "### Multivariate analysis "
   ]
  },
  {
   "cell_type": "code",
   "execution_count": 268,
   "metadata": {},
   "outputs": [
    {
     "data": {
      "image/png": "[encoded data removed]",
      "text/plain": [
       "<Figure size 640x480 with 2 Axes>"
      ]
     },
     "metadata": {},
     "output_type": "display_data"
    }
   ],
   "source": [
    "# Create a pivot table with Style as index, Price as columns, and Recommendation as values\n",
    "pivot_table_style_price = pd.pivot_table(data=inp0, index=\"Style\", columns=\"Price\", values=\"Recommendation\")\n",
    "\n",
    "# Plot the heatmap with a pastel color palette, annotate the values, and center the color map at the mean\n",
    "sns.heatmap(pivot_table_style_price, cmap=\"YlGnBu\", annot=True, center=0.427)\n",
    "\n",
    "# Set plot title\n",
    "plt.title('Heatmap of Style, Price, and Recommendation')\n",
    "\n",
    "# Display the plot\n",
    "plt.show()"
   ]
  },
  {
   "cell_type": "code",
   "execution_count": 269,
   "metadata": {},
   "outputs": [
    {
     "data": {
      "image/png": "[encoded data removed]",
      "text/plain": [
       "<Figure size 640x480 with 2 Axes>"
      ]
     },
     "metadata": {},
     "output_type": "display_data"
    }
   ],
   "source": [
    "# Create a pivot table with Season as index, Material as columns, and Recommendation as values\n",
    "pivot_table_season_material = pd.pivot_table(data=inp0, index=\"Season\", columns=\"Material\", values=\"Recommendation\")\n",
    "\n",
    "# Plot the heatmap with the \"Blues\" colormap, annotate the values, and center the color map at the mean\n",
    "sns.heatmap(pivot_table_season_material, cmap=\"Blues\", annot=True, center=0.427)\n",
    "\n",
    "# Set plot title\n",
    "plt.title('Heatmap of Season, Material, and Recommendation')\n",
    "\n",
    "# Display the plot\n",
    "plt.show()"
   ]
  },
  {
   "cell_type": "markdown",
   "metadata": {},
   "source": [
    "## Conclusion\n",
    "\n",
    "The project involved thorough data cleaning, preprocessing, exploratory analysis, and visualization of a dataset containing information about women's apparel sales. Here are the key takeaways:\n",
    "\n",
    "1. **Data Cleaning and Preprocessing**: Missing values were handled by dropping or imputing them based on specific criteria. Categorical variables were standardized and corrected for irregular spellings.\n",
    "\n",
    "2. **Exploratory Data Analysis (EDA)**: Sales trends across different seasons were analyzed, and distributions of categorical variables were explored. Patterns in ratings and recommendations were also investigated.\n",
    "\n",
    "3. **Grouping Categories**: Certain categorical variables such as \"Style\", \"Neckline\", \"Sleeve Length\", \"Material\", \"Fabric Type\", \"Pattern Type\", and \"Decoration\" were grouped into \"Others\" based on their total sales across seasons. This grouping simplified the analysis and reduced the number of categories.\n",
    "\n",
    "4. **Visualization**: Various visualizations including bar plots, box plots, and heatmaps were created to better understand the data and explore relationships between variables.\n",
    "\n",
    "5. **Statistical Analysis**: Summary statistics such as mean, median, maximum, and percentiles were calculated for numerical variables across different categories, providing insights into the central tendency and variability of the data.\n",
    "\n",
    "Overall, the analysis provided valuable insights into sales trends, customer preferences, and relationships between different variables. Further analysis or machine learning models could be explored to make predictions or recommendations based on the insights gained.\n",
    "\n"
   ]
  },
  {
   "cell_type": "code",
   "execution_count": null,
   "metadata": {},
   "outputs": [],
   "source": []
  },
  {
   "cell_type": "code",
   "execution_count": null,
   "metadata": {},
   "outputs": [],
   "source": []
  }
 ],
 "metadata": {
  "kernelspec": {
   "display_name": "Python 3 (ipykernel)",
   "language": "python",
   "name": "python3"
  },
  "language_info": {
   "codemirror_mode": {
    "name": "ipython",
    "version": 3
   },
   "file_extension": ".py",
   "mimetype": "text/x-python",
   "name": "python",
   "nbconvert_exporter": "python",
   "pygments_lexer": "ipython3",
   "version": "3.11.5"
  }
 },
 "nbformat": 4,
 "nbformat_minor": 2
}
